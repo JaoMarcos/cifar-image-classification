{
 "cells": [
  {
   "cell_type": "markdown",
   "metadata": {
    "collapsed": true,
    "deletable": true,
    "editable": true
   },
   "source": [
    "# Image Classification\n",
    "In this project, you'll classify images from the [CIFAR-10 dataset](https://www.cs.toronto.edu/~kriz/cifar.html).  The dataset consists of airplanes, dogs, cats, and other objects. You'll preprocess the images, then train a convolutional neural network on all the samples. The images need to be normalized and the labels need to be one-hot encoded.  You'll get to apply what you learned and build a convolutional, max pooling, dropout, and fully connected layers.  At the end, you'll get to see your neural network's predictions on the sample images.\n",
    "\n",
    "\n",
    "\n",
    "## Get the Data\n",
    "Run the following cell to download the [CIFAR-10 dataset for python](https://www.cs.toronto.edu/~kriz/cifar-10-python.tar.gz)."
   ]
  },
  {
   "cell_type": "code",
   "execution_count": 1,
   "metadata": {
    "collapsed": false,
    "deletable": true,
    "editable": true
   },
   "outputs": [
    {
     "name": "stdout",
     "output_type": "stream",
     "text": [
      "All files found!\n"
     ]
    }
   ],
   "source": [
    "\"\"\"\n",
    "DON'T MODIFY ANYTHING IN THIS CELL THAT IS BELOW THIS LINE\n",
    "\"\"\"\n",
    "from urllib.request import urlretrieve\n",
    "from os.path import isfile, isdir\n",
    "from tqdm import tqdm\n",
    "import problem_unittests as tests\n",
    "import tarfile\n",
    "\n",
    "cifar10_dataset_folder_path = 'cifar-10-batches-py'\n",
    "\n",
    "# Use Floyd's cifar-10 dataset if present\n",
    "floyd_cifar10_location = '/input/cifar-10/python.tar.gz'\n",
    "if isfile(floyd_cifar10_location):\n",
    "    tar_gz_path = floyd_cifar10_location\n",
    "else:\n",
    "    tar_gz_path = 'cifar-10-python.tar.gz'\n",
    "\n",
    "class DLProgress(tqdm):\n",
    "    last_block = 0\n",
    "\n",
    "    def hook(self, block_num=1, block_size=1, total_size=None):\n",
    "        self.total = total_size\n",
    "        self.update((block_num - self.last_block) * block_size)\n",
    "        self.last_block = block_num\n",
    "\n",
    "if not isfile(tar_gz_path):\n",
    "    with DLProgress(unit='B', unit_scale=True, miniters=1, desc='CIFAR-10 Dataset') as pbar:\n",
    "        urlretrieve(\n",
    "            'https://www.cs.toronto.edu/~kriz/cifar-10-python.tar.gz',\n",
    "            tar_gz_path,\n",
    "            pbar.hook)\n",
    "\n",
    "if not isdir(cifar10_dataset_folder_path):\n",
    "    with tarfile.open(tar_gz_path) as tar:\n",
    "        tar.extractall()\n",
    "        tar.close()\n",
    "\n",
    "\n",
    "tests.test_folder_path(cifar10_dataset_folder_path)"
   ]
  },
  {
   "cell_type": "markdown",
   "metadata": {
    "deletable": true,
    "editable": true
   },
   "source": [
    "## Explore the Data\n",
    "The dataset is broken into batches to prevent your machine from running out of memory.  The CIFAR-10 dataset consists of 5 batches, named `data_batch_1`, `data_batch_2`, etc.. Each batch contains the labels and images that are one of the following:\n",
    "* airplane\n",
    "* automobile\n",
    "* bird\n",
    "* cat\n",
    "* deer\n",
    "* dog\n",
    "* frog\n",
    "* horse\n",
    "* ship\n",
    "* truck\n",
    "\n",
    "Understanding a dataset is part of making predictions on the data.  Play around with the code cell below by changing the `batch_id` and `sample_id`. The `batch_id` is the id for a batch (1-5). The `sample_id` is the id for a image and label pair in the batch.\n",
    "\n",
    "Ask yourself \"What are all possible labels?\", \"What is the range of values for the image data?\", \"Are the labels in order or random?\".  Answers to questions like these will help you preprocess the data and end up with better predictions."
   ]
  },
  {
   "cell_type": "code",
   "execution_count": 2,
   "metadata": {
    "collapsed": false,
    "deletable": true,
    "editable": true
   },
   "outputs": [
    {
     "name": "stdout",
     "output_type": "stream",
     "text": [
      "\n",
      "Stats of batch 1:\n",
      "Samples: 10000\n",
      "Label Counts: {0: 1005, 1: 974, 2: 1032, 3: 1016, 4: 999, 5: 937, 6: 1030, 7: 1001, 8: 1025, 9: 981}\n",
      "First 20 Labels: [6, 9, 9, 4, 1, 1, 2, 7, 8, 3, 4, 7, 7, 2, 9, 9, 9, 3, 2, 6]\n",
      "\n",
      "Example of Image 50:\n",
      "Image - Min Value: 8 Max Value: 243\n",
      "Image - Shape: (32, 32, 3)\n",
      "Label - Label Id: 9 Name: truck\n"
     ]
    },
    {
     "data": {
      "image/png": "[encoded data removed]",
      "text/plain": [
       "<matplotlib.figure.Figure at 0x7fa5ade99390>"
      ]
     },
     "metadata": {
      "image/png": {
       "height": 250,
       "width": 253
      }
     },
     "output_type": "display_data"
    }
   ],
   "source": [
    "%matplotlib inline\n",
    "%config InlineBackend.figure_format = 'retina'\n",
    "\n",
    "import helper\n",
    "import numpy as np\n",
    "\n",
    "# Explore the dataset\n",
    "batch_id = 1\n",
    "sample_id = 50\n",
    "helper.display_stats(cifar10_dataset_folder_path, batch_id, sample_id)"
   ]
  },
  {
   "cell_type": "markdown",
   "metadata": {
    "deletable": true,
    "editable": true
   },
   "source": [
    "## Implement Preprocess Functions\n",
    "### Normalize\n",
    "In the cell below, implement the `normalize` function to take in image data, `x`, and return it as a normalized Numpy array. The values should be in the range of 0 to 1, inclusive.  The return object should be the same shape as `x`."
   ]
  },
  {
   "cell_type": "code",
   "execution_count": 3,
   "metadata": {
    "collapsed": false,
    "deletable": true,
    "editable": true
   },
   "outputs": [
    {
     "name": "stdout",
     "output_type": "stream",
     "text": [
      "Tests Passed\n"
     ]
    }
   ],
   "source": [
    "def normalize(x):\n",
    "    \"\"\"\n",
    "    Normalize a list of sample image data in the range of 0 to 1\n",
    "    : x: List of image data.  The image shape is (32, 32, 3)\n",
    "    : return: Numpy array of normalize data\n",
    "    \"\"\"\n",
    "    # TODO: Implement Function\n",
    "\n",
    "    return x/255.0\n",
    "\n",
    "\n",
    "\"\"\"\n",
    "DON'T MODIFY ANYTHING IN THIS CELL THAT IS BELOW THIS LINE\n",
    "\"\"\"\n",
    "tests.test_normalize(normalize)"
   ]
  },
  {
   "cell_type": "markdown",
   "metadata": {
    "deletable": true,
    "editable": true
   },
   "source": [
    "### One-hot encode\n",
    "Just like the previous code cell, you'll be implementing a function for preprocessing.  This time, you'll implement the `one_hot_encode` function. The input, `x`, are a list of labels.  Implement the function to return the list of labels as One-Hot encoded Numpy array.  The possible values for labels are 0 to 9. The one-hot encoding function should return the same encoding for each value between each call to `one_hot_encode`.  Make sure to save the map of encodings outside the function.\n",
    "\n",
    "Hint: Don't reinvent the wheel."
   ]
  },
  {
   "cell_type": "code",
   "execution_count": 4,
   "metadata": {
    "collapsed": false,
    "deletable": true,
    "editable": true
   },
   "outputs": [
    {
     "name": "stdout",
     "output_type": "stream",
     "text": [
      "Tests Passed\n"
     ]
    }
   ],
   "source": [
    "def one_hot_encode(x):\n",
    "    \"\"\"\n",
    "    One hot encode a list of sample labels. Return a one-hot encoded vector for each label.\n",
    "    : x: List of sample Labels\n",
    "    : return: Numpy array of one-hot encoded labels\n",
    "    \"\"\"\n",
    "    # TODO: Implement Function\n",
    "    l = []\n",
    "    for label in x:\n",
    "        aux = np.zeros(10)\n",
    "        aux[label] =1\n",
    "        l.append(aux)\n",
    "    l= np.array(l)\n",
    "    return l\n",
    "\n",
    "\n",
    "\"\"\"\n",
    "DON'T MODIFY ANYTHING IN THIS CELL THAT IS BELOW THIS LINE\n",
    "\"\"\"\n",
    "tests.test_one_hot_encode(one_hot_encode)"
   ]
  },
  {
   "cell_type": "markdown",
   "metadata": {
    "deletable": true,
    "editable": true
   },
   "source": [
    "### Randomize Data\n",
    "As you saw from exploring the data above, the order of the samples are randomized.  It doesn't hurt to randomize it again, but you don't need to for this dataset."
   ]
  },
  {
   "cell_type": "markdown",
   "metadata": {
    "deletable": true,
    "editable": true
   },
   "source": [
    "## Preprocess all the data and save it\n",
    "Running the code cell below will preprocess all the CIFAR-10 data and save it to file. The code below also uses 10% of the training data for validation."
   ]
  },
  {
   "cell_type": "code",
   "execution_count": 5,
   "metadata": {
    "collapsed": false,
    "deletable": true,
    "editable": true
   },
   "outputs": [],
   "source": [
    "\"\"\"\n",
    "DON'T MODIFY ANYTHING IN THIS CELL\n",
    "\"\"\"\n",
    "# Preprocess Training, Validation, and Testing Data\n",
    "helper.preprocess_and_save_data(cifar10_dataset_folder_path, normalize, one_hot_encode)"
   ]
  },
  {
   "cell_type": "markdown",
   "metadata": {
    "deletable": true,
    "editable": true
   },
   "source": [
    "# Check Point\n",
    "This is your first checkpoint.  If you ever decide to come back to this notebook or have to restart the notebook, you can start from here.  The preprocessed data has been saved to disk."
   ]
  },
  {
   "cell_type": "code",
   "execution_count": 20,
   "metadata": {
    "collapsed": false,
    "deletable": true,
    "editable": true
   },
   "outputs": [],
   "source": [
    "\"\"\"\n",
    "DON'T MODIFY ANYTHING IN THIS CELL\n",
    "\"\"\"\n",
    "import pickle\n",
    "import problem_unittests as tests\n",
    "import helper\n",
    "\n",
    "# Load the Preprocessed Validation data\n",
    "valid_features, valid_labels = pickle.load(open('preprocess_validation.p', mode='rb'))"
   ]
  },
  {
   "cell_type": "markdown",
   "metadata": {
    "deletable": true,
    "editable": true
   },
   "source": [
    "## Build the network\n",
    "For the neural network, you'll build each layer into a function.  Most of the code you've seen has been outside of functions. To test your code more thoroughly, we require that you put each layer in a function.  This allows us to give you better feedback and test for simple mistakes using our unittests before you submit your project.\n",
    "\n",
    ">**Note:** If you're finding it hard to dedicate enough time for this course each week, we've provided a small shortcut to this part of the project. In the next couple of problems, you'll have the option to use classes from the [TensorFlow Layers](https://www.tensorflow.org/api_docs/python/tf/layers) or [TensorFlow Layers (contrib)](https://www.tensorflow.org/api_guides/python/contrib.layers) packages to build each layer, except the layers you build in the \"Convolutional and Max Pooling Layer\" section.  TF Layers is similar to Keras's and TFLearn's abstraction to layers, so it's easy to pickup.\n",
    "\n",
    ">However, if you would like to get the most out of this course, try to solve all the problems _without_ using anything from the TF Layers packages. You **can** still use classes from other packages that happen to have the same name as ones you find in TF Layers! For example, instead of using the TF Layers version of the `conv2d` class, [tf.layers.conv2d](https://www.tensorflow.org/api_docs/python/tf/layers/conv2d), you would want to use the TF Neural Network version of `conv2d`, [tf.nn.conv2d](https://www.tensorflow.org/api_docs/python/tf/nn/conv2d). \n",
    "\n",
    "Let's begin!\n",
    "\n",
    "### Input\n",
    "The neural network needs to read the image data, one-hot encoded labels, and dropout keep probability. Implement the following functions\n",
    "* Implement `neural_net_image_input`\n",
    " * Return a [TF Placeholder](https://www.tensorflow.org/api_docs/python/tf/placeholder)\n",
    " * Set the shape using `image_shape` with batch size set to `None`.\n",
    " * Name the TensorFlow placeholder \"x\" using the TensorFlow `name` parameter in the [TF Placeholder](https://www.tensorflow.org/api_docs/python/tf/placeholder).\n",
    "* Implement `neural_net_label_input`\n",
    " * Return a [TF Placeholder](https://www.tensorflow.org/api_docs/python/tf/placeholder)\n",
    " * Set the shape using `n_classes` with batch size set to `None`.\n",
    " * Name the TensorFlow placeholder \"y\" using the TensorFlow `name` parameter in the [TF Placeholder](https://www.tensorflow.org/api_docs/python/tf/placeholder).\n",
    "* Implement `neural_net_keep_prob_input`\n",
    " * Return a [TF Placeholder](https://www.tensorflow.org/api_docs/python/tf/placeholder) for dropout keep probability.\n",
    " * Name the TensorFlow placeholder \"keep_prob\" using the TensorFlow `name` parameter in the [TF Placeholder](https://www.tensorflow.org/api_docs/python/tf/placeholder).\n",
    "\n",
    "These names will be used at the end of the project to load your saved model.\n",
    "\n",
    "Note: `None` for shapes in TensorFlow allow for a dynamic size."
   ]
  },
  {
   "cell_type": "code",
   "execution_count": 21,
   "metadata": {
    "collapsed": false,
    "deletable": true,
    "editable": true
   },
   "outputs": [
    {
     "name": "stdout",
     "output_type": "stream",
     "text": [
      "Image Input Tests Passed.\n",
      "Label Input Tests Passed.\n",
      "Keep Prob Tests Passed.\n"
     ]
    }
   ],
   "source": [
    "import tensorflow as tf\n",
    "\n",
    "def neural_net_image_input(image_shape):\n",
    "    \"\"\"\n",
    "    Return a Tensor for a batch of image input\n",
    "    : image_shape: Shape of the images\n",
    "    : return: Tensor for image input.\n",
    "    \"\"\"\n",
    "    # TODO: Implement Function\n",
    "    image_shape = (None,)+image_shape\n",
    "    return  tf.placeholder(tf.float32, shape=image_shape,name =\"x\")\n",
    "\n",
    "\n",
    "\n",
    "def neural_net_label_input(n_classes):\n",
    "    \"\"\"\n",
    "    Return a Tensor for a batch of label input\n",
    "    : n_classes: Number of classes\n",
    "    : return: Tensor for label input.\n",
    "    \"\"\"\n",
    "    # TODO: Implement Function\n",
    "    \n",
    "    return tf.placeholder(tf.float32, shape=(None,n_classes),name =\"y\")\n",
    "\n",
    "\n",
    "def neural_net_keep_prob_input():\n",
    "    \"\"\"\n",
    "    Return a Tensor for keep probability\n",
    "    : return: Tensor for keep probability.\n",
    "    \"\"\"\n",
    "    # TODO: Implement Function\n",
    "    return tf.placeholder(tf.float32,name =\"keep_prob\")\n",
    "\n",
    "\n",
    "\"\"\"\n",
    "DON'T MODIFY ANYTHING IN THIS CELL THAT IS BELOW THIS LINE\n",
    "\"\"\"\n",
    "tf.reset_default_graph()\n",
    "tests.test_nn_image_inputs(neural_net_image_input)\n",
    "tests.test_nn_label_inputs(neural_net_label_input)\n",
    "tests.test_nn_keep_prob_inputs(neural_net_keep_prob_input)"
   ]
  },
  {
   "cell_type": "markdown",
   "metadata": {
    "deletable": true,
    "editable": true
   },
   "source": [
    "### Convolution and Max Pooling Layer\n",
    "Convolution layers have a lot of success with images. For this code cell, you should implement the function `conv2d_maxpool` to apply convolution then max pooling:\n",
    "* Create the weight and bias using `conv_ksize`, `conv_num_outputs` and the shape of `x_tensor`.\n",
    "* Apply a convolution to `x_tensor` using weight and `conv_strides`.\n",
    " * We recommend you use same padding, but you're welcome to use any padding.\n",
    "* Add bias\n",
    "* Add a nonlinear activation to the convolution.\n",
    "* Apply Max Pooling using `pool_ksize` and `pool_strides`.\n",
    " * We recommend you use same padding, but you're welcome to use any padding.\n",
    "\n",
    "**Note:** You **can't** use [TensorFlow Layers](https://www.tensorflow.org/api_docs/python/tf/layers) or [TensorFlow Layers (contrib)](https://www.tensorflow.org/api_guides/python/contrib.layers) for **this** layer, but you can still use TensorFlow's [Neural Network](https://www.tensorflow.org/api_docs/python/tf/nn) package. You may still use the shortcut option for all the **other** layers."
   ]
  },
  {
   "cell_type": "code",
   "execution_count": 22,
   "metadata": {
    "collapsed": false,
    "deletable": true,
    "editable": true
   },
   "outputs": [
    {
     "name": "stdout",
     "output_type": "stream",
     "text": [
      "Tests Passed\n"
     ]
    }
   ],
   "source": [
    "def conv2d_maxpool(x_tensor, conv_num_outputs, conv_ksize, conv_strides, pool_ksize, pool_strides):\n",
    "    \"\"\"\n",
    "    Apply convolution then max pooling to x_tensor\n",
    "    :param x_tensor: TensorFlow Tensor\n",
    "    :param conv_num_outputs: Number of outputs for the convolutional layer\n",
    "    :param conv_ksize: kernal size 2-D Tuple for the convolutional layer\n",
    "    :param conv_strides: Stride 2-D Tuple for convolution\n",
    "    :param pool_ksize: kernal size 2-D Tuple for pool\n",
    "    :param pool_strides: Stride 2-D Tuple for pool\n",
    "    : return: A tensor that represents convolution and max pooling of x_tensor\n",
    "    \"\"\"\n",
    "    _, w, h, d = x_tensor.get_shape()\n",
    "    std =  1./(float(int(w)*int(h)) ** 0.5)\n",
    "    weight = tf.Variable(tf.truncated_normal([conv_ksize[0], conv_ksize[1],int(d), conv_num_outputs],stddev=std))\n",
    "    bias = tf.Variable(tf.zeros(conv_num_outputs))\n",
    "    \n",
    "    conv_layer = tf.nn.conv2d(x_tensor, weight, strides=[1, conv_strides[0], conv_strides[1], 1], padding='SAME')\n",
    "    conv_layer = tf.nn.bias_add(conv_layer, bias)\n",
    "    conv_layer = tf.nn.relu(conv_layer)\n",
    "    return tf.nn.max_pool(\n",
    "        conv_layer,\n",
    "        ksize=[1, pool_ksize[0], pool_ksize[1], 1],\n",
    "        strides=[1, pool_strides[0], pool_strides[1], 1],\n",
    "        padding='SAME')\n",
    "\n",
    "\n",
    "\"\"\"\n",
    "DON'T MODIFY ANYTHING IN THIS CELL THAT IS BELOW THIS LINE\n",
    "\"\"\"\n",
    "tests.test_con_pool(conv2d_maxpool)"
   ]
  },
  {
   "cell_type": "markdown",
   "metadata": {
    "deletable": true,
    "editable": true
   },
   "source": [
    "### Flatten Layer\n",
    "Implement the `flatten` function to change the dimension of `x_tensor` from a 4-D tensor to a 2-D tensor.  The output should be the shape (*Batch Size*, *Flattened Image Size*). Shortcut option: you can use classes from the [TensorFlow Layers](https://www.tensorflow.org/api_docs/python/tf/layers) or [TensorFlow Layers (contrib)](https://www.tensorflow.org/api_guides/python/contrib.layers) packages for this layer. For more of a challenge, only use other TensorFlow packages."
   ]
  },
  {
   "cell_type": "code",
   "execution_count": 23,
   "metadata": {
    "collapsed": false,
    "deletable": true,
    "editable": true
   },
   "outputs": [
    {
     "name": "stdout",
     "output_type": "stream",
     "text": [
      "Tests Passed\n"
     ]
    }
   ],
   "source": [
    "def flatten(x_tensor):\n",
    "    \"\"\"\n",
    "    Flatten x_tensor to (Batch Size, Flattened Image Size)\n",
    "    : x_tensor: A tensor of size (Batch Size, ...), where ... are the image dimensions.\n",
    "    : return: A tensor of size (Batch Size, Flattened Image Size).\n",
    "    \"\"\"\n",
    "    q= int(x_tensor.shape[1]*x_tensor.shape[2]*x_tensor.shape[3])\n",
    "    x_tensor = tf.reshape(x_tensor, [-1, q])\n",
    "    return  x_tensor\n",
    "\n",
    "\n",
    "\"\"\"\n",
    "DON'T MODIFY ANYTHING IN THIS CELL THAT IS BELOW THIS LINE\n",
    "\"\"\"\n",
    "tests.test_flatten(flatten)"
   ]
  },
  {
   "cell_type": "markdown",
   "metadata": {
    "deletable": true,
    "editable": true
   },
   "source": [
    "### Fully-Connected Layer\n",
    "Implement the `fully_conn` function to apply a fully connected layer to `x_tensor` with the shape (*Batch Size*, *num_outputs*). Shortcut option: you can use classes from the [TensorFlow Layers](https://www.tensorflow.org/api_docs/python/tf/layers) or [TensorFlow Layers (contrib)](https://www.tensorflow.org/api_guides/python/contrib.layers) packages for this layer. For more of a challenge, only use other TensorFlow packages."
   ]
  },
  {
   "cell_type": "code",
   "execution_count": 24,
   "metadata": {
    "collapsed": false,
    "deletable": true,
    "editable": true
   },
   "outputs": [
    {
     "name": "stdout",
     "output_type": "stream",
     "text": [
      "Tests Passed\n"
     ]
    }
   ],
   "source": [
    "def fully_conn(x_tensor, num_outputs):\n",
    "    \"\"\"\n",
    "    Apply a fully connected layer to x_tensor using weight and bias\n",
    "    : x_tensor: A 2-D tensor where the first dimension is batch size.\n",
    "    : num_outputs: The number of output that the new tensor should be.\n",
    "    : return: A 2-D tensor where the second dimension is num_outputs.\n",
    "    \"\"\"\n",
    "    w, h = x_tensor.get_shape()\n",
    "    std =  1./(float(int(h) ** 0.5))\n",
    "    weight = tf.Variable(tf.truncated_normal([int(h), num_outputs],stddev=std))\n",
    "    bias = tf.Variable(tf.zeros(num_outputs))\n",
    "    fc1 = tf.add(tf.matmul(x_tensor,weight), bias)\n",
    "    fc1 = tf.nn.relu(fc1)\n",
    "    return fc1\n",
    "\n",
    "\n",
    "\"\"\"\n",
    "DON'T MODIFY ANYTHING IN THIS CELL THAT IS BELOW THIS LINE\n",
    "\"\"\"\n",
    "tests.test_fully_conn(fully_conn)"
   ]
  },
  {
   "cell_type": "markdown",
   "metadata": {
    "deletable": true,
    "editable": true
   },
   "source": [
    "### Output Layer\n",
    "Implement the `output` function to apply a fully connected layer to `x_tensor` with the shape (*Batch Size*, *num_outputs*). Shortcut option: you can use classes from the [TensorFlow Layers](https://www.tensorflow.org/api_docs/python/tf/layers) or [TensorFlow Layers (contrib)](https://www.tensorflow.org/api_guides/python/contrib.layers) packages for this layer. For more of a challenge, only use other TensorFlow packages.\n",
    "\n",
    "**Note:** Activation, softmax, or cross entropy should **not** be applied to this."
   ]
  },
  {
   "cell_type": "code",
   "execution_count": 25,
   "metadata": {
    "collapsed": false,
    "deletable": true,
    "editable": true
   },
   "outputs": [
    {
     "name": "stdout",
     "output_type": "stream",
     "text": [
      "Tests Passed\n"
     ]
    }
   ],
   "source": [
    "def output(x_tensor, num_outputs):\n",
    "    \"\"\"\n",
    "    Apply a output layer to x_tensor using weight and bias\n",
    "    : x_tensor: A 2-D tensor where the first dimension is batch size.\n",
    "    : num_outputs: The number of output that the new tensor should be.\n",
    "    : return: A 2-D tensor where the second dimension is num_outputs.\n",
    "    \"\"\"\n",
    "    w, h = x_tensor.get_shape()\n",
    "    std =  1./(float(int(h) ** 0.5))\n",
    "    weight = tf.Variable(tf.truncated_normal([int(h), num_outputs],stddev=std))\n",
    "    bias = tf.Variable(tf.zeros(num_outputs))\n",
    "    out = tf.add(tf.matmul(x_tensor, weight),bias)\n",
    "    return out\n",
    "\n",
    "\n",
    "\"\"\"\n",
    "DON'T MODIFY ANYTHING IN THIS CELL THAT IS BELOW THIS LINE\n",
    "\"\"\"\n",
    "tests.test_output(output)"
   ]
  },
  {
   "cell_type": "markdown",
   "metadata": {
    "deletable": true,
    "editable": true
   },
   "source": [
    "### Create Convolutional Model\n",
    "Implement the function `conv_net` to create a convolutional neural network model. The function takes in a batch of images, `x`, and outputs logits.  Use the layers you created above to create this model:\n",
    "\n",
    "* Apply 1, 2, or 3 Convolution and Max Pool layers\n",
    "* Apply a Flatten Layer\n",
    "* Apply 1, 2, or 3 Fully Connected Layers\n",
    "* Apply an Output Layer\n",
    "* Return the output\n",
    "* Apply [TensorFlow's Dropout](https://www.tensorflow.org/api_docs/python/tf/nn/dropout) to one or more layers in the model using `keep_prob`. "
   ]
  },
  {
   "cell_type": "code",
   "execution_count": 26,
   "metadata": {
    "collapsed": false,
    "deletable": true,
    "editable": true
   },
   "outputs": [
    {
     "name": "stdout",
     "output_type": "stream",
     "text": [
      "Neural Network Built!\n"
     ]
    }
   ],
   "source": [
    "def conv_net(x, keep_prob):\n",
    "    \"\"\"\n",
    "    Create a convolutional neural network model\n",
    "    : x: Placeholder tensor that holds image data.\n",
    "    : keep_prob: Placeholder tensor that hold dropout keep probability.\n",
    "    : return: Tensor that represents logits\n",
    "    \"\"\"\n",
    "    # TODO: Apply 1, 2, or 3 Convolution and Max Pool layers\n",
    "    #    Play around with different number of outputs, kernel size and stride\n",
    "    # Function Definition from Above:\n",
    "    #    conv2d_maxpool(x_tensor, conv_num_outputs, conv_ksize, conv_strides, pool_ksize, pool_strides)\n",
    "    x = conv2d_maxpool(x, 32, (5,5), (1, 1), (3, 3), (2, 2))\n",
    "    \n",
    "    x = conv2d_maxpool(x, 64, (5,5), (1, 1), (2, 2), (2, 2))\n",
    "    \n",
    "    x = conv2d_maxpool(x, 128, (5,5), (1, 1), (2, 2), (2, 2))\n",
    "    \n",
    "    # TODO: Apply a Flatten Layer\n",
    "    # Function Definition from Above:\n",
    "    #   flatten(x_tensor)\n",
    "    x = flatten(x)\n",
    "\n",
    "    # TODO: Apply 1, 2, or 3 Fully Connected Layers\n",
    "    #    Play around with different number of outputs\n",
    "    # Function Definition from Above:\n",
    "    #   fully_conn(x_tensor, num_outputs)\n",
    "    x = tf.nn.dropout(x, keep_prob)\n",
    "    x=fully_conn(x, 512)\n",
    "    x = tf.nn.dropout(x, keep_prob)\n",
    "    x=fully_conn(x, 64)\n",
    "    x = tf.nn.dropout(x, keep_prob)\n",
    "    \n",
    "    # TODO: Apply an Output Layer\n",
    "    #    Set this to the number of classes\n",
    "    # Function Definition from Above:\n",
    "    #   output(x_tensor, num_outputs)\n",
    "    \n",
    "    x=output(x, 10)\n",
    "    # TODO: return output\n",
    "    return x\n",
    "\n",
    "\n",
    "\"\"\"\n",
    "DON'T MODIFY ANYTHING IN THIS CELL THAT IS BELOW THIS LINE\n",
    "\"\"\"\n",
    "\n",
    "##############################\n",
    "## Build the Neural Network ##\n",
    "##############################\n",
    "\n",
    "# Remove previous weights, bias, inputs, etc..\n",
    "tf.reset_default_graph()\n",
    "\n",
    "# Inputs\n",
    "x = neural_net_image_input((32, 32, 3))\n",
    "y = neural_net_label_input(10)\n",
    "keep_prob = neural_net_keep_prob_input()\n",
    "\n",
    "# Model\n",
    "logits = conv_net(x, keep_prob)\n",
    "\n",
    "# Name logits Tensor, so that is can be loaded from disk after training\n",
    "logits = tf.identity(logits, name='logits')\n",
    "\n",
    "# Loss and Optimizer\n",
    "cost = tf.reduce_mean(tf.nn.softmax_cross_entropy_with_logits(logits=logits, labels=y))\n",
    "optimizer = tf.train.AdamOptimizer().minimize(cost)\n",
    "\n",
    "# Accuracy\n",
    "correct_pred = tf.equal(tf.argmax(logits, 1), tf.argmax(y, 1))\n",
    "accuracy = tf.reduce_mean(tf.cast(correct_pred, tf.float32), name='accuracy')\n",
    "\n",
    "tests.test_conv_net(conv_net)"
   ]
  },
  {
   "cell_type": "markdown",
   "metadata": {
    "deletable": true,
    "editable": true
   },
   "source": [
    "## Train the Neural Network\n",
    "### Single Optimization\n",
    "Implement the function `train_neural_network` to do a single optimization.  The optimization should use `optimizer` to optimize in `session` with a `feed_dict` of the following:\n",
    "* `x` for image input\n",
    "* `y` for labels\n",
    "* `keep_prob` for keep probability for dropout\n",
    "\n",
    "This function will be called for each batch, so `tf.global_variables_initializer()` has already been called.\n",
    "\n",
    "Note: Nothing needs to be returned. This function is only optimizing the neural network."
   ]
  },
  {
   "cell_type": "code",
   "execution_count": 27,
   "metadata": {
    "collapsed": false,
    "deletable": true,
    "editable": true
   },
   "outputs": [
    {
     "name": "stdout",
     "output_type": "stream",
     "text": [
      "Tests Passed\n"
     ]
    }
   ],
   "source": [
    "def train_neural_network(session, optimizer, keep_probability, feature_batch, label_batch):\n",
    "    \"\"\"\n",
    "    Optimize the session on a batch of images and labels\n",
    "    : session: Current TensorFlow session\n",
    "    : optimizer: TensorFlow optimizer function\n",
    "    : keep_probability: keep probability\n",
    "    : feature_batch: Batch of Numpy image data\n",
    "    : label_batch: Batch of Numpy label data\n",
    "    \"\"\"\n",
    "    session.run(optimizer, feed_dict={\n",
    "            x: feature_batch,\n",
    "            y: label_batch,\n",
    "            keep_prob: keep_probability})\n",
    "\n",
    "\n",
    "\n",
    "\"\"\"\n",
    "DON'T MODIFY ANYTHING IN THIS CELL THAT IS BELOW THIS LINE\n",
    "\"\"\"\n",
    "tests.test_train_nn(train_neural_network)"
   ]
  },
  {
   "cell_type": "markdown",
   "metadata": {
    "deletable": true,
    "editable": true
   },
   "source": [
    "### Show Stats\n",
    "Implement the function `print_stats` to print loss and validation accuracy.  Use the global variables `valid_features` and `valid_labels` to calculate validation accuracy.  Use a keep probability of `1.0` to calculate the loss and validation accuracy."
   ]
  },
  {
   "cell_type": "code",
   "execution_count": 47,
   "metadata": {
    "collapsed": false,
    "deletable": true,
    "editable": true
   },
   "outputs": [],
   "source": [
    "import sys\n",
    "def print_stats(session, feature_batch, label_batch, cost, accuracy):\n",
    "    \"\"\"\n",
    "    Print information about loss and validation accuracy\n",
    "    : session: Current TensorFlow session\n",
    "    : feature_batch: Batch of Numpy image data\n",
    "    : label_batch: Batch of Numpy label data\n",
    "    : cost: TensorFlow cost function\n",
    "    : accuracy: TensorFlow accuracy function\n",
    "    \"\"\"\n",
    "    loss = session.run(cost, feed_dict={\n",
    "                x: feature_batch,\n",
    "                y: label_batch,\n",
    "                keep_prob: 1.})\n",
    "    valid_acc = session.run(accuracy, feed_dict={\n",
    "        x: valid_features,\n",
    "        y: valid_labels,\n",
    "        keep_prob: 1.})\n",
    "\n",
    "    print('Loss: '+str(loss)+' Validation Accuracy: '+str(valid_acc))"
   ]
  },
  {
   "cell_type": "markdown",
   "metadata": {
    "deletable": true,
    "editable": true
   },
   "source": [
    "### Hyperparameters\n",
    "Tune the following parameters:\n",
    "* Set `epochs` to the number of iterations until the network stops learning or start overfitting\n",
    "* Set `batch_size` to the highest number that your machine has memory for.  Most people set them to common sizes of memory:\n",
    " * 64\n",
    " * 128\n",
    " * 256\n",
    " * ...\n",
    "* Set `keep_probability` to the probability of keeping a node using dropout"
   ]
  },
  {
   "cell_type": "code",
   "execution_count": 48,
   "metadata": {
    "collapsed": true,
    "deletable": true,
    "editable": true
   },
   "outputs": [],
   "source": [
    "# TODO: Tune Parameters\n",
    "epochs = 40\n",
    "batch_size = 512\n",
    "keep_probability = 0.3"
   ]
  },
  {
   "cell_type": "markdown",
   "metadata": {
    "deletable": true,
    "editable": true
   },
   "source": [
    "### Train on a Single CIFAR-10 Batch\n",
    "Instead of training the neural network on all the CIFAR-10 batches of data, let's use a single batch. This should save time while you iterate on the model to get a better accuracy.  Once the final validation accuracy is 50% or greater, run the model on all the data in the next section."
   ]
  },
  {
   "cell_type": "code",
   "execution_count": 49,
   "metadata": {
    "collapsed": false,
    "deletable": true,
    "editable": true
   },
   "outputs": [
    {
     "name": "stdout",
     "output_type": "stream",
     "text": [
      "Checking the Training on a Single Batch...\n",
      "Epoch  1, CIFAR-10 Batch 1:  \n",
      "Loss: 2.29516 Validation Accuracy: 0.1824\n",
      "Epoch  2, CIFAR-10 Batch 1:  \n",
      "Loss: 2.22448 Validation Accuracy: 0.18\n",
      "Epoch  3, CIFAR-10 Batch 1:  \n",
      "Loss: 2.16119 Validation Accuracy: 0.195\n",
      "Epoch  4, CIFAR-10 Batch 1:  \n",
      "Loss: 2.12209 Validation Accuracy: 0.223\n",
      "Epoch  5, CIFAR-10 Batch 1:  \n",
      "Loss: 2.06537 Validation Accuracy: 0.2414\n",
      "Epoch  6, CIFAR-10 Batch 1:  \n",
      "Loss: 1.98969 Validation Accuracy: 0.2806\n",
      "Epoch  7, CIFAR-10 Batch 1:  \n",
      "Loss: 1.92154 Validation Accuracy: 0.296\n",
      "Epoch  8, CIFAR-10 Batch 1:  \n",
      "Loss: 1.86581 Validation Accuracy: 0.3228\n",
      "Epoch  9, CIFAR-10 Batch 1:  \n",
      "Loss: 1.84598 Validation Accuracy: 0.3174\n",
      "Epoch 10, CIFAR-10 Batch 1:  \n",
      "Loss: 1.79196 Validation Accuracy: 0.3422\n",
      "Epoch 11, CIFAR-10 Batch 1:  \n",
      "Loss: 1.73632 Validation Accuracy: 0.3974\n",
      "Epoch 12, CIFAR-10 Batch 1:  \n",
      "Loss: 1.65798 Validation Accuracy: 0.3956\n",
      "Epoch 13, CIFAR-10 Batch 1:  \n",
      "Loss: 1.61305 Validation Accuracy: 0.3858\n",
      "Epoch 14, CIFAR-10 Batch 1:  \n",
      "Loss: 1.58377 Validation Accuracy: 0.4212\n",
      "Epoch 15, CIFAR-10 Batch 1:  \n",
      "Loss: 1.53954 Validation Accuracy: 0.4126\n",
      "Epoch 16, CIFAR-10 Batch 1:  \n",
      "Loss: 1.50927 Validation Accuracy: 0.416\n",
      "Epoch 17, CIFAR-10 Batch 1:  \n",
      "Loss: 1.43364 Validation Accuracy: 0.4494\n",
      "Epoch 18, CIFAR-10 Batch 1:  \n",
      "Loss: 1.42389 Validation Accuracy: 0.451\n",
      "Epoch 19, CIFAR-10 Batch 1:  \n",
      "Loss: 1.37983 Validation Accuracy: 0.4662\n",
      "Epoch 20, CIFAR-10 Batch 1:  \n",
      "Loss: 1.32922 Validation Accuracy: 0.4762\n",
      "Epoch 21, CIFAR-10 Batch 1:  \n",
      "Loss: 1.2878 Validation Accuracy: 0.4812\n",
      "Epoch 22, CIFAR-10 Batch 1:  \n",
      "Loss: 1.33374 Validation Accuracy: 0.463\n",
      "Epoch 23, CIFAR-10 Batch 1:  \n",
      "Loss: 1.2872 Validation Accuracy: 0.4796\n",
      "Epoch 24, CIFAR-10 Batch 1:  \n",
      "Loss: 1.19983 Validation Accuracy: 0.5178\n",
      "Epoch 25, CIFAR-10 Batch 1:  \n",
      "Loss: 1.15111 Validation Accuracy: 0.513\n",
      "Epoch 26, CIFAR-10 Batch 1:  \n",
      "Loss: 1.17016 Validation Accuracy: 0.525\n",
      "Epoch 27, CIFAR-10 Batch 1:  \n",
      "Loss: 1.14344 Validation Accuracy: 0.507\n",
      "Epoch 28, CIFAR-10 Batch 1:  \n",
      "Loss: 1.04875 Validation Accuracy: 0.5426\n",
      "Epoch 29, CIFAR-10 Batch 1:  \n",
      "Loss: 1.00172 Validation Accuracy: 0.5386\n",
      "Epoch 30, CIFAR-10 Batch 1:  \n",
      "Loss: 1.00134 Validation Accuracy: 0.5412\n",
      "Epoch 31, CIFAR-10 Batch 1:  \n",
      "Loss: 0.992982 Validation Accuracy: 0.5348\n",
      "Epoch 32, CIFAR-10 Batch 1:  \n",
      "Loss: 0.971537 Validation Accuracy: 0.548\n",
      "Epoch 33, CIFAR-10 Batch 1:  \n",
      "Loss: 0.922388 Validation Accuracy: 0.5362\n",
      "Epoch 34, CIFAR-10 Batch 1:  \n",
      "Loss: 0.879163 Validation Accuracy: 0.5568\n",
      "Epoch 35, CIFAR-10 Batch 1:  \n",
      "Loss: 0.871831 Validation Accuracy: 0.5538\n",
      "Epoch 36, CIFAR-10 Batch 1:  \n",
      "Loss: 0.862289 Validation Accuracy: 0.5482\n",
      "Epoch 37, CIFAR-10 Batch 1:  \n",
      "Loss: 0.808361 Validation Accuracy: 0.5608\n",
      "Epoch 38, CIFAR-10 Batch 1:  \n",
      "Loss: 0.812582 Validation Accuracy: 0.5634\n",
      "Epoch 39, CIFAR-10 Batch 1:  \n",
      "Loss: 0.83968 Validation Accuracy: 0.5348\n",
      "Epoch 40, CIFAR-10 Batch 1:  \n",
      "Loss: 0.777602 Validation Accuracy: 0.578\n"
     ]
    }
   ],
   "source": [
    "\"\"\"\n",
    "DON'T MODIFY ANYTHING IN THIS CELL\n",
    "\"\"\"\n",
    "print('Checking the Training on a Single Batch...')\n",
    "with tf.Session() as sess:\n",
    "    # Initializing the variables\n",
    "    sess.run(tf.global_variables_initializer())\n",
    "    \n",
    "    # Training cycle\n",
    "    for epoch in range(epochs):\n",
    "        batch_i = 1\n",
    "        for batch_features, batch_labels in helper.load_preprocess_training_batch(batch_i, batch_size):\n",
    "            train_neural_network(sess, optimizer, keep_probability, batch_features, batch_labels)\n",
    "        print('Epoch {:>2}, CIFAR-10 Batch {}:  '.format(epoch + 1, batch_i))\n",
    "        print_stats(sess, batch_features, batch_labels, cost, accuracy)"
   ]
  },
  {
   "cell_type": "markdown",
   "metadata": {
    "deletable": true,
    "editable": true
   },
   "source": [
    "### Fully Train the Model\n",
    "Now that you got a good accuracy with a single CIFAR-10 batch, try it with all five batches."
   ]
  },
  {
   "cell_type": "code",
   "execution_count": 50,
   "metadata": {
    "collapsed": false,
    "deletable": true,
    "editable": true
   },
   "outputs": [
    {
     "name": "stdout",
     "output_type": "stream",
     "text": [
      "Training...\n",
      "Epoch  1, CIFAR-10 Batch 1:  Loss: 2.2967 Validation Accuracy: 0.1246\n",
      "Epoch  1, CIFAR-10 Batch 2:  Loss: 2.2431 Validation Accuracy: 0.1748\n",
      "Epoch  1, CIFAR-10 Batch 3:  Loss: 2.17074 Validation Accuracy: 0.1832\n",
      "Epoch  1, CIFAR-10 Batch 4:  Loss: 2.07648 Validation Accuracy: 0.217\n",
      "Epoch  1, CIFAR-10 Batch 5:  Loss: 1.98122 Validation Accuracy: 0.2644\n",
      "Epoch  2, CIFAR-10 Batch 1:  Loss: 1.96509 Validation Accuracy: 0.3046\n",
      "Epoch  2, CIFAR-10 Batch 2:  Loss: 1.82568 Validation Accuracy: 0.3332\n",
      "Epoch  2, CIFAR-10 Batch 3:  Loss: 1.66717 Validation Accuracy: 0.3618\n",
      "Epoch  2, CIFAR-10 Batch 4:  Loss: 1.65021 Validation Accuracy: 0.3708\n",
      "Epoch  2, CIFAR-10 Batch 5:  Loss: 1.6394 Validation Accuracy: 0.3904\n",
      "Epoch  3, CIFAR-10 Batch 1:  Loss: 1.74524 Validation Accuracy: 0.373\n",
      "Epoch  3, CIFAR-10 Batch 2:  Loss: 1.59472 Validation Accuracy: 0.4194\n",
      "Epoch  3, CIFAR-10 Batch 3:  Loss: 1.45368 Validation Accuracy: 0.4274\n",
      "Epoch  3, CIFAR-10 Batch 4:  Loss: 1.462 Validation Accuracy: 0.428\n",
      "Epoch  3, CIFAR-10 Batch 5:  Loss: 1.46676 Validation Accuracy: 0.4522\n",
      "Epoch  4, CIFAR-10 Batch 1:  Loss: 1.56376 Validation Accuracy: 0.44\n",
      "Epoch  4, CIFAR-10 Batch 2:  Loss: 1.44936 Validation Accuracy: 0.4698\n",
      "Epoch  4, CIFAR-10 Batch 3:  Loss: 1.30223 Validation Accuracy: 0.4764\n",
      "Epoch  4, CIFAR-10 Batch 4:  Loss: 1.34848 Validation Accuracy: 0.4796\n",
      "Epoch  4, CIFAR-10 Batch 5:  Loss: 1.34462 Validation Accuracy: 0.4912\n",
      "Epoch  5, CIFAR-10 Batch 1:  Loss: 1.46683 Validation Accuracy: 0.4938\n",
      "Epoch  5, CIFAR-10 Batch 2:  Loss: 1.43691 Validation Accuracy: 0.4736\n",
      "Epoch  5, CIFAR-10 Batch 3:  Loss: 1.1907 Validation Accuracy: 0.5066\n",
      "Epoch  5, CIFAR-10 Batch 4:  Loss: 1.2584 Validation Accuracy: 0.5056\n",
      "Epoch  5, CIFAR-10 Batch 5:  Loss: 1.33464 Validation Accuracy: 0.4842\n",
      "Epoch  6, CIFAR-10 Batch 1:  Loss: 1.37434 Validation Accuracy: 0.5218\n",
      "Epoch  6, CIFAR-10 Batch 2:  Loss: 1.30843 Validation Accuracy: 0.534\n",
      "Epoch  6, CIFAR-10 Batch 3:  Loss: 1.19479 Validation Accuracy: 0.5066\n",
      "Epoch  6, CIFAR-10 Batch 4:  Loss: 1.17257 Validation Accuracy: 0.5316\n",
      "Epoch  6, CIFAR-10 Batch 5:  Loss: 1.20586 Validation Accuracy: 0.5466\n",
      "Epoch  7, CIFAR-10 Batch 1:  Loss: 1.30663 Validation Accuracy: 0.5458\n",
      "Epoch  7, CIFAR-10 Batch 2:  Loss: 1.2282 Validation Accuracy: 0.5544\n",
      "Epoch  7, CIFAR-10 Batch 3:  Loss: 1.161 Validation Accuracy: 0.5424\n",
      "Epoch  7, CIFAR-10 Batch 4:  Loss: 1.10246 Validation Accuracy: 0.5428\n",
      "Epoch  7, CIFAR-10 Batch 5:  Loss: 1.146 Validation Accuracy: 0.562\n",
      "Epoch  8, CIFAR-10 Batch 1:  Loss: 1.24247 Validation Accuracy: 0.5434\n",
      "Epoch  8, CIFAR-10 Batch 2:  Loss: 1.16568 Validation Accuracy: 0.567\n",
      "Epoch  8, CIFAR-10 Batch 3:  Loss: 1.05127 Validation Accuracy: 0.5536\n",
      "Epoch  8, CIFAR-10 Batch 4:  Loss: 1.0673 Validation Accuracy: 0.5672\n",
      "Epoch  8, CIFAR-10 Batch 5:  Loss: 1.11347 Validation Accuracy: 0.5682\n",
      "Epoch  9, CIFAR-10 Batch 1:  Loss: 1.22951 Validation Accuracy: 0.5612\n",
      "Epoch  9, CIFAR-10 Batch 2:  Loss: 1.17919 Validation Accuracy: 0.5638\n",
      "Epoch  9, CIFAR-10 Batch 3:  Loss: 1.0009 Validation Accuracy: 0.579\n",
      "Epoch  9, CIFAR-10 Batch 4:  Loss: 1.02607 Validation Accuracy: 0.589\n",
      "Epoch  9, CIFAR-10 Batch 5:  Loss: 1.05634 Validation Accuracy: 0.5868\n",
      "Epoch 10, CIFAR-10 Batch 1:  Loss: 1.11881 Validation Accuracy: 0.5988\n",
      "Epoch 10, CIFAR-10 Batch 2:  Loss: 1.07087 Validation Accuracy: 0.5886\n",
      "Epoch 10, CIFAR-10 Batch 3:  Loss: 0.977897 Validation Accuracy: 0.5894\n",
      "Epoch 10, CIFAR-10 Batch 4:  Loss: 0.963992 Validation Accuracy: 0.5986\n",
      "Epoch 10, CIFAR-10 Batch 5:  Loss: 0.994238 Validation Accuracy: 0.6038\n",
      "Epoch 11, CIFAR-10 Batch 1:  Loss: 1.07249 Validation Accuracy: 0.6016\n",
      "Epoch 11, CIFAR-10 Batch 2:  Loss: 1.05582 Validation Accuracy: 0.594\n",
      "Epoch 11, CIFAR-10 Batch 3:  Loss: 0.946297 Validation Accuracy: 0.6024\n",
      "Epoch 11, CIFAR-10 Batch 4:  Loss: 0.939298 Validation Accuracy: 0.602\n",
      "Epoch 11, CIFAR-10 Batch 5:  Loss: 0.975273 Validation Accuracy: 0.61\n",
      "Epoch 12, CIFAR-10 Batch 1:  Loss: 1.04259 Validation Accuracy: 0.6058\n",
      "Epoch 12, CIFAR-10 Batch 2:  Loss: 1.01317 Validation Accuracy: 0.6092\n",
      "Epoch 12, CIFAR-10 Batch 3:  Loss: 0.922999 Validation Accuracy: 0.6008\n",
      "Epoch 12, CIFAR-10 Batch 4:  Loss: 0.89416 Validation Accuracy: 0.6128\n",
      "Epoch 12, CIFAR-10 Batch 5:  Loss: 0.953803 Validation Accuracy: 0.6218\n",
      "Epoch 13, CIFAR-10 Batch 1:  Loss: 1.03059 Validation Accuracy: 0.627\n",
      "Epoch 13, CIFAR-10 Batch 2:  Loss: 0.956141 Validation Accuracy: 0.6188\n",
      "Epoch 13, CIFAR-10 Batch 3:  Loss: 0.882933 Validation Accuracy: 0.6204\n",
      "Epoch 13, CIFAR-10 Batch 4:  Loss: 0.87556 Validation Accuracy: 0.6154\n",
      "Epoch 13, CIFAR-10 Batch 5:  Loss: 0.916737 Validation Accuracy: 0.63\n",
      "Epoch 14, CIFAR-10 Batch 1:  Loss: 0.981717 Validation Accuracy: 0.624\n",
      "Epoch 14, CIFAR-10 Batch 2:  Loss: 0.882542 Validation Accuracy: 0.643\n",
      "Epoch 14, CIFAR-10 Batch 3:  Loss: 0.879327 Validation Accuracy: 0.6194\n",
      "Epoch 14, CIFAR-10 Batch 4:  Loss: 0.824696 Validation Accuracy: 0.6272\n",
      "Epoch 14, CIFAR-10 Batch 5:  Loss: 0.850089 Validation Accuracy: 0.642\n",
      "Epoch 15, CIFAR-10 Batch 1:  Loss: 0.911014 Validation Accuracy: 0.6382\n",
      "Epoch 15, CIFAR-10 Batch 2:  Loss: 0.876108 Validation Accuracy: 0.6424\n",
      "Epoch 15, CIFAR-10 Batch 3:  Loss: 0.841144 Validation Accuracy: 0.638\n",
      "Epoch 15, CIFAR-10 Batch 4:  Loss: 0.829103 Validation Accuracy: 0.6392\n",
      "Epoch 15, CIFAR-10 Batch 5:  Loss: 0.833321 Validation Accuracy: 0.6418\n",
      "Epoch 16, CIFAR-10 Batch 1:  Loss: 0.877347 Validation Accuracy: 0.6482\n",
      "Epoch 16, CIFAR-10 Batch 2:  Loss: 0.85528 Validation Accuracy: 0.6528\n",
      "Epoch 16, CIFAR-10 Batch 3:  Loss: 0.849949 Validation Accuracy: 0.629\n",
      "Epoch 16, CIFAR-10 Batch 4:  Loss: 0.759484 Validation Accuracy: 0.6544\n",
      "Epoch 16, CIFAR-10 Batch 5:  Loss: 0.807519 Validation Accuracy: 0.652\n",
      "Epoch 17, CIFAR-10 Batch 1:  Loss: 0.867829 Validation Accuracy: 0.6572\n",
      "Epoch 17, CIFAR-10 Batch 2:  Loss: 0.833543 Validation Accuracy: 0.6642\n",
      "Epoch 17, CIFAR-10 Batch 3:  Loss: 0.771383 Validation Accuracy: 0.6554\n",
      "Epoch 17, CIFAR-10 Batch 4:  Loss: 0.742486 Validation Accuracy: 0.6594\n",
      "Epoch 17, CIFAR-10 Batch 5:  Loss: 0.806228 Validation Accuracy: 0.6512\n",
      "Epoch 18, CIFAR-10 Batch 1:  Loss: 0.813868 Validation Accuracy: 0.6488\n",
      "Epoch 18, CIFAR-10 Batch 2:  Loss: 0.769737 Validation Accuracy: 0.6686\n",
      "Epoch 18, CIFAR-10 Batch 3:  Loss: 0.783514 Validation Accuracy: 0.6432\n",
      "Epoch 18, CIFAR-10 Batch 4:  Loss: 0.733751 Validation Accuracy: 0.6634\n",
      "Epoch 18, CIFAR-10 Batch 5:  Loss: 0.767977 Validation Accuracy: 0.6608\n",
      "Epoch 19, CIFAR-10 Batch 1:  Loss: 0.784784 Validation Accuracy: 0.6668\n",
      "Epoch 19, CIFAR-10 Batch 2:  Loss: 0.783021 Validation Accuracy: 0.6664\n",
      "Epoch 19, CIFAR-10 Batch 3:  Loss: 0.744548 Validation Accuracy: 0.6592\n",
      "Epoch 19, CIFAR-10 Batch 4:  Loss: 0.727552 Validation Accuracy: 0.6746\n",
      "Epoch 19, CIFAR-10 Batch 5:  Loss: 0.752869 Validation Accuracy: 0.6764\n",
      "Epoch 20, CIFAR-10 Batch 1:  Loss: 0.769748 Validation Accuracy: 0.657\n",
      "Epoch 20, CIFAR-10 Batch 2:  Loss: 0.839355 Validation Accuracy: 0.6358\n",
      "Epoch 20, CIFAR-10 Batch 3:  Loss: 0.774 Validation Accuracy: 0.653\n",
      "Epoch 20, CIFAR-10 Batch 4:  Loss: 0.703786 Validation Accuracy: 0.6708\n",
      "Epoch 20, CIFAR-10 Batch 5:  Loss: 0.747891 Validation Accuracy: 0.6618\n",
      "Epoch 21, CIFAR-10 Batch 1:  Loss: 0.717098 Validation Accuracy: 0.6736\n",
      "Epoch 21, CIFAR-10 Batch 2:  Loss: 0.735331 Validation Accuracy: 0.6724\n",
      "Epoch 21, CIFAR-10 Batch 3:  Loss: 0.738267 Validation Accuracy: 0.6422\n",
      "Epoch 21, CIFAR-10 Batch 4:  Loss: 0.685567 Validation Accuracy: 0.6732\n",
      "Epoch 21, CIFAR-10 Batch 5:  Loss: 0.695326 Validation Accuracy: 0.6706\n",
      "Epoch 22, CIFAR-10 Batch 1:  Loss: 0.746702 Validation Accuracy: 0.6708\n",
      "Epoch 22, CIFAR-10 Batch 2:  Loss: 0.714358 Validation Accuracy: 0.6674\n",
      "Epoch 22, CIFAR-10 Batch 3:  Loss: 0.671838 Validation Accuracy: 0.6762\n",
      "Epoch 22, CIFAR-10 Batch 4:  Loss: 0.641327 Validation Accuracy: 0.6816\n",
      "Epoch 22, CIFAR-10 Batch 5:  Loss: 0.667728 Validation Accuracy: 0.6892\n",
      "Epoch 23, CIFAR-10 Batch 1:  Loss: 0.70954 Validation Accuracy: 0.6738\n",
      "Epoch 23, CIFAR-10 Batch 2:  Loss: 0.69741 Validation Accuracy: 0.6734\n",
      "Epoch 23, CIFAR-10 Batch 3:  Loss: 0.694589 Validation Accuracy: 0.6548\n",
      "Epoch 23, CIFAR-10 Batch 4:  Loss: 0.665805 Validation Accuracy: 0.6716\n",
      "Epoch 23, CIFAR-10 Batch 5:  Loss: 0.67895 Validation Accuracy: 0.6766\n",
      "Epoch 24, CIFAR-10 Batch 1:  Loss: 0.68083 Validation Accuracy: 0.6756\n",
      "Epoch 24, CIFAR-10 Batch 2:  Loss: 0.712584 Validation Accuracy: 0.6644\n",
      "Epoch 24, CIFAR-10 Batch 3:  Loss: 0.654402 Validation Accuracy: 0.6782\n",
      "Epoch 24, CIFAR-10 Batch 4:  Loss: 0.639571 Validation Accuracy: 0.689\n",
      "Epoch 24, CIFAR-10 Batch 5:  Loss: 0.654446 Validation Accuracy: 0.6942\n",
      "Epoch 25, CIFAR-10 Batch 1:  Loss: 0.641563 Validation Accuracy: 0.6958\n",
      "Epoch 25, CIFAR-10 Batch 2:  Loss: 0.638001 Validation Accuracy: 0.693\n",
      "Epoch 25, CIFAR-10 Batch 3:  Loss: 0.634451 Validation Accuracy: 0.6824\n",
      "Epoch 25, CIFAR-10 Batch 4:  Loss: 0.607388 Validation Accuracy: 0.688\n",
      "Epoch 25, CIFAR-10 Batch 5:  Loss: 0.623807 Validation Accuracy: 0.6984\n",
      "Epoch 26, CIFAR-10 Batch 1:  Loss: 0.657983 Validation Accuracy: 0.6838\n",
      "Epoch 26, CIFAR-10 Batch 2:  Loss: 0.657767 Validation Accuracy: 0.6966\n",
      "Epoch 26, CIFAR-10 Batch 3:  Loss: 0.606532 Validation Accuracy: 0.6918\n",
      "Epoch 26, CIFAR-10 Batch 4:  Loss: 0.606963 Validation Accuracy: 0.683\n",
      "Epoch 26, CIFAR-10 Batch 5:  Loss: 0.638783 Validation Accuracy: 0.6924\n",
      "Epoch 27, CIFAR-10 Batch 1:  Loss: 0.61596 Validation Accuracy: 0.6972\n",
      "Epoch 27, CIFAR-10 Batch 2:  Loss: 0.731769 Validation Accuracy: 0.6654\n",
      "Epoch 27, CIFAR-10 Batch 3:  Loss: 0.587129 Validation Accuracy: 0.6856\n",
      "Epoch 27, CIFAR-10 Batch 4:  Loss: 0.636289 Validation Accuracy: 0.6766\n",
      "Epoch 27, CIFAR-10 Batch 5:  Loss: 0.613731 Validation Accuracy: 0.695\n",
      "Epoch 28, CIFAR-10 Batch 1:  Loss: 0.631875 Validation Accuracy: 0.6926\n",
      "Epoch 28, CIFAR-10 Batch 2:  Loss: 0.654195 Validation Accuracy: 0.6884\n",
      "Epoch 28, CIFAR-10 Batch 3:  Loss: 0.641763 Validation Accuracy: 0.6872\n",
      "Epoch 28, CIFAR-10 Batch 4:  Loss: 0.568636 Validation Accuracy: 0.6886\n",
      "Epoch 28, CIFAR-10 Batch 5:  Loss: 0.593014 Validation Accuracy: 0.6886\n",
      "Epoch 29, CIFAR-10 Batch 1:  Loss: 0.615412 Validation Accuracy: 0.6932\n",
      "Epoch 29, CIFAR-10 Batch 2:  Loss: 0.65314 Validation Accuracy: 0.6896\n",
      "Epoch 29, CIFAR-10 Batch 3:  Loss: 0.612248 Validation Accuracy: 0.6778\n",
      "Epoch 29, CIFAR-10 Batch 4:  Loss: 0.5685 Validation Accuracy: 0.6912\n",
      "Epoch 29, CIFAR-10 Batch 5:  Loss: 0.607764 Validation Accuracy: 0.6962\n",
      "Epoch 30, CIFAR-10 Batch 1:  Loss: 0.589857 Validation Accuracy: 0.701\n",
      "Epoch 30, CIFAR-10 Batch 2:  Loss: 0.584124 Validation Accuracy: 0.7088\n",
      "Epoch 30, CIFAR-10 Batch 3:  Loss: 0.542014 Validation Accuracy: 0.7012\n",
      "Epoch 30, CIFAR-10 Batch 4:  Loss: 0.519897 Validation Accuracy: 0.7016\n",
      "Epoch 30, CIFAR-10 Batch 5:  Loss: 0.538673 Validation Accuracy: 0.7082\n",
      "Epoch 31, CIFAR-10 Batch 1:  Loss: 0.57836 Validation Accuracy: 0.7054\n",
      "Epoch 31, CIFAR-10 Batch 2:  Loss: 0.566417 Validation Accuracy: 0.712\n",
      "Epoch 31, CIFAR-10 Batch 3:  Loss: 0.588923 Validation Accuracy: 0.6954\n",
      "Epoch 31, CIFAR-10 Batch 4:  Loss: 0.577246 Validation Accuracy: 0.6934\n",
      "Epoch 31, CIFAR-10 Batch 5:  Loss: 0.582018 Validation Accuracy: 0.6982\n",
      "Epoch 32, CIFAR-10 Batch 1:  Loss: 0.569386 Validation Accuracy: 0.7104\n",
      "Epoch 32, CIFAR-10 Batch 2:  Loss: 0.605341 Validation Accuracy: 0.7002\n",
      "Epoch 32, CIFAR-10 Batch 3:  Loss: 0.52762 Validation Accuracy: 0.7078\n",
      "Epoch 32, CIFAR-10 Batch 4:  Loss: 0.503437 Validation Accuracy: 0.7028\n",
      "Epoch 32, CIFAR-10 Batch 5:  Loss: 0.571112 Validation Accuracy: 0.7054\n",
      "Epoch 33, CIFAR-10 Batch 1:  Loss: 0.579339 Validation Accuracy: 0.7064\n",
      "Epoch 33, CIFAR-10 Batch 2:  Loss: 0.582784 Validation Accuracy: 0.7086\n",
      "Epoch 33, CIFAR-10 Batch 3:  Loss: 0.533431 Validation Accuracy: 0.7116\n",
      "Epoch 33, CIFAR-10 Batch 4:  Loss: 0.496898 Validation Accuracy: 0.7132\n",
      "Epoch 33, CIFAR-10 Batch 5:  Loss: 0.517481 Validation Accuracy: 0.716\n",
      "Epoch 34, CIFAR-10 Batch 1:  Loss: 0.55568 Validation Accuracy: 0.7134\n",
      "Epoch 34, CIFAR-10 Batch 2:  Loss: 0.547458 Validation Accuracy: 0.7182\n",
      "Epoch 34, CIFAR-10 Batch 3:  Loss: 0.520686 Validation Accuracy: 0.7174\n",
      "Epoch 34, CIFAR-10 Batch 4:  Loss: 0.499336 Validation Accuracy: 0.7134\n",
      "Epoch 34, CIFAR-10 Batch 5:  Loss: 0.523069 Validation Accuracy: 0.7042\n",
      "Epoch 35, CIFAR-10 Batch 1:  Loss: 0.535927 Validation Accuracy: 0.7186\n",
      "Epoch 35, CIFAR-10 Batch 2:  Loss: 0.546025 Validation Accuracy: 0.7182\n",
      "Epoch 35, CIFAR-10 Batch 3:  Loss: 0.503254 Validation Accuracy: 0.717\n",
      "Epoch 35, CIFAR-10 Batch 4:  Loss: 0.480208 Validation Accuracy: 0.7118\n",
      "Epoch 35, CIFAR-10 Batch 5:  Loss: 0.552791 Validation Accuracy: 0.7042\n",
      "Epoch 36, CIFAR-10 Batch 1:  Loss: 0.539901 Validation Accuracy: 0.7106\n",
      "Epoch 36, CIFAR-10 Batch 2:  Loss: 0.532681 Validation Accuracy: 0.7166\n",
      "Epoch 36, CIFAR-10 Batch 3:  Loss: 0.480298 Validation Accuracy: 0.7172\n",
      "Epoch 36, CIFAR-10 Batch 4:  Loss: 0.471467 Validation Accuracy: 0.7168\n",
      "Epoch 36, CIFAR-10 Batch 5:  Loss: 0.516119 Validation Accuracy: 0.709\n",
      "Epoch 37, CIFAR-10 Batch 1:  Loss: 0.562043 Validation Accuracy: 0.6984\n",
      "Epoch 37, CIFAR-10 Batch 2:  Loss: 0.521069 Validation Accuracy: 0.7248\n",
      "Epoch 37, CIFAR-10 Batch 3:  Loss: 0.461419 Validation Accuracy: 0.7196\n",
      "Epoch 37, CIFAR-10 Batch 4:  Loss: 0.458969 Validation Accuracy: 0.7254\n",
      "Epoch 37, CIFAR-10 Batch 5:  Loss: 0.469268 Validation Accuracy: 0.719\n",
      "Epoch 38, CIFAR-10 Batch 1:  Loss: 0.509121 Validation Accuracy: 0.7084\n",
      "Epoch 38, CIFAR-10 Batch 2:  Loss: 0.525616 Validation Accuracy: 0.7182\n",
      "Epoch 38, CIFAR-10 Batch 3:  Loss: 0.446889 Validation Accuracy: 0.7256\n",
      "Epoch 38, CIFAR-10 Batch 4:  Loss: 0.454872 Validation Accuracy: 0.7186\n",
      "Epoch 38, CIFAR-10 Batch 5:  Loss: 0.447132 Validation Accuracy: 0.7162\n",
      "Epoch 39, CIFAR-10 Batch 1:  Loss: 0.512086 Validation Accuracy: 0.7134\n",
      "Epoch 39, CIFAR-10 Batch 2:  Loss: 0.511887 Validation Accuracy: 0.7138\n",
      "Epoch 39, CIFAR-10 Batch 3:  Loss: 0.447897 Validation Accuracy: 0.7238\n",
      "Epoch 39, CIFAR-10 Batch 4:  Loss: 0.44719 Validation Accuracy: 0.717\n",
      "Epoch 39, CIFAR-10 Batch 5:  Loss: 0.447014 Validation Accuracy: 0.7272\n",
      "Epoch 40, CIFAR-10 Batch 1:  Loss: 0.496069 Validation Accuracy: 0.7198\n",
      "Epoch 40, CIFAR-10 Batch 2:  Loss: 0.495971 Validation Accuracy: 0.7244\n",
      "Epoch 40, CIFAR-10 Batch 3:  Loss: 0.428108 Validation Accuracy: 0.7236\n",
      "Epoch 40, CIFAR-10 Batch 4:  Loss: 0.411844 Validation Accuracy: 0.7336\n",
      "Epoch 40, CIFAR-10 Batch 5:  Loss: 0.440751 Validation Accuracy: 0.7286\n"
     ]
    }
   ],
   "source": [
    "\"\"\"\n",
    "DON'T MODIFY ANYTHING IN THIS CELL\n",
    "\"\"\"\n",
    "save_model_path = './image_classification'\n",
    "\n",
    "print('Training...')\n",
    "with tf.Session() as sess:\n",
    "    # Initializing the variables\n",
    "    sess.run(tf.global_variables_initializer())\n",
    "    \n",
    "    # Training cycle\n",
    "    for epoch in range(epochs):\n",
    "        # Loop over all batches\n",
    "        n_batches = 5\n",
    "        for batch_i in range(1, n_batches + 1):\n",
    "            for batch_features, batch_labels in helper.load_preprocess_training_batch(batch_i, batch_size):\n",
    "                train_neural_network(sess, optimizer, keep_probability, batch_features, batch_labels)\n",
    "            print('Epoch {:>2}, CIFAR-10 Batch {}:  '.format(epoch + 1, batch_i), end='')\n",
    "            print_stats(sess, batch_features, batch_labels, cost, accuracy)\n",
    "            \n",
    "    # Save Model\n",
    "    saver = tf.train.Saver()\n",
    "    save_path = saver.save(sess, save_model_path)"
   ]
  },
  {
   "cell_type": "markdown",
   "metadata": {
    "deletable": true,
    "editable": true
   },
   "source": [
    "# Checkpoint\n",
    "The model has been saved to disk.\n",
    "## Test Model\n",
    "Test your model against the test dataset.  This will be your final accuracy. You should have an accuracy greater than 50%. If you don't, keep tweaking the model architecture and parameters."
   ]
  },
  {
   "cell_type": "code",
   "execution_count": 51,
   "metadata": {
    "collapsed": false,
    "deletable": true,
    "editable": true
   },
   "outputs": [
    {
     "name": "stdout",
     "output_type": "stream",
     "text": [
      "Testing Accuracy: 0.7198471993207931\n",
      "\n"
     ]
    },
    {
     "data": {
      "image/png": "[encoded data removed]",
      "text/plain": [
       "<matplotlib.figure.Figure at 0x7fa5a0b82278>"
      ]
     },
     "metadata": {
      "image/png": {
       "height": 319,
       "width": 355
      }
     },
     "output_type": "display_data"
    }
   ],
   "source": [
    "\"\"\"\n",
    "DON'T MODIFY ANYTHING IN THIS CELL\n",
    "\"\"\"\n",
    "%matplotlib inline\n",
    "%config InlineBackend.figure_format = 'retina'\n",
    "\n",
    "import tensorflow as tf\n",
    "import pickle\n",
    "import helper\n",
    "import random\n",
    "\n",
    "# Set batch size if not already set\n",
    "try:\n",
    "    if batch_size:\n",
    "        pass\n",
    "except NameError:\n",
    "    batch_size = 64\n",
    "\n",
    "save_model_path = './image_classification'\n",
    "n_samples = 4\n",
    "top_n_predictions = 3\n",
    "\n",
    "def test_model():\n",
    "    \"\"\"\n",
    "    Test the saved model against the test dataset\n",
    "    \"\"\"\n",
    "\n",
    "    test_features, test_labels = pickle.load(open('preprocess_training.p', mode='rb'))\n",
    "    loaded_graph = tf.Graph()\n",
    "\n",
    "    with tf.Session(graph=loaded_graph) as sess:\n",
    "        # Load model\n",
    "        loader = tf.train.import_meta_graph(save_model_path + '.meta')\n",
    "        loader.restore(sess, save_model_path)\n",
    "\n",
    "        # Get Tensors from loaded model\n",
    "        loaded_x = loaded_graph.get_tensor_by_name('x:0')\n",
    "        loaded_y = loaded_graph.get_tensor_by_name('y:0')\n",
    "        loaded_keep_prob = loaded_graph.get_tensor_by_name('keep_prob:0')\n",
    "        loaded_logits = loaded_graph.get_tensor_by_name('logits:0')\n",
    "        loaded_acc = loaded_graph.get_tensor_by_name('accuracy:0')\n",
    "        \n",
    "        # Get accuracy in batches for memory limitations\n",
    "        test_batch_acc_total = 0\n",
    "        test_batch_count = 0\n",
    "        \n",
    "        for train_feature_batch, train_label_batch in helper.batch_features_labels(test_features, test_labels, batch_size):\n",
    "            test_batch_acc_total += sess.run(\n",
    "                loaded_acc,\n",
    "                feed_dict={loaded_x: train_feature_batch, loaded_y: train_label_batch, loaded_keep_prob: 1.0})\n",
    "            test_batch_count += 1\n",
    "\n",
    "        print('Testing Accuracy: {}\\n'.format(test_batch_acc_total/test_batch_count))\n",
    "\n",
    "        # Print Random Samples\n",
    "        random_test_features, random_test_labels = tuple(zip(*random.sample(list(zip(test_features, test_labels)), n_samples)))\n",
    "        random_test_predictions = sess.run(\n",
    "            tf.nn.top_k(tf.nn.softmax(loaded_logits), top_n_predictions),\n",
    "            feed_dict={loaded_x: random_test_features, loaded_y: random_test_labels, loaded_keep_prob: 1.0})\n",
    "        helper.display_image_predictions(random_test_features, random_test_labels, random_test_predictions)\n",
    "\n",
    "\n",
    "test_model()"
   ]
  },
  {
   "cell_type": "markdown",
   "metadata": {
    "deletable": true,
    "editable": true
   },
   "source": [
    "## Why 50-80% Accuracy?\n",
    "You might be wondering why you can't get an accuracy any higher. First things first, 50% isn't bad for a simple CNN.  Pure guessing would get you 10% accuracy. However, you might notice people are getting scores [well above 80%](http://rodrigob.github.io/are_we_there_yet/build/classification_datasets_results.html#43494641522d3130).  That's because we haven't taught you all there is to know about neural networks. We still need to cover a few more techniques.\n",
    "## Submitting This Project\n",
    "When submitting this project, make sure to run all the cells before saving the notebook.  Save the notebook file as \"dlnd_image_classification.ipynb\" and save it as a HTML file under \"File\" -> \"Download as\".  Include the \"helper.py\" and \"problem_unittests.py\" files in your submission."
   ]
  },
  {
   "cell_type": "code",
   "execution_count": null,
   "metadata": {
    "collapsed": true,
    "deletable": true,
    "editable": true
   },
   "outputs": [],
   "source": []
  }
 ],
 "metadata": {
  "kernelspec": {
   "display_name": "Python 3",
   "language": "python",
   "name": "python3"
  },
  "language_info": {
   "codemirror_mode": {
    "name": "ipython",
    "version": 3
   },
   "file_extension": ".py",
   "mimetype": "text/x-python",
   "name": "python",
   "nbconvert_exporter": "python",
   "pygments_lexer": "ipython3",
   "version": "3.5.3"
  }
 },
 "nbformat": 4,
 "nbformat_minor": 0
}
