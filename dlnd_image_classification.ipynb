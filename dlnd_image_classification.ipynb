{
 "cells": [
  {
   "cell_type": "markdown",
   "metadata": {
    "collapsed": true,
    "deletable": true,
    "editable": true
   },
   "source": [
    "# Image Classification\n",
    "In this project, you'll classify images from the [CIFAR-10 dataset](https://www.cs.toronto.edu/~kriz/cifar.html).  The dataset consists of airplanes, dogs, cats, and other objects. You'll preprocess the images, then train a convolutional neural network on all the samples. The images need to be normalized and the labels need to be one-hot encoded.  You'll get to apply what you learned and build a convolutional, max pooling, dropout, and fully connected layers.  At the end, you'll get to see your neural network's predictions on the sample images.\n",
    "## Get the Data\n",
    "Run the following cell to download the [CIFAR-10 dataset for python](https://www.cs.toronto.edu/~kriz/cifar-10-python.tar.gz)."
   ]
  },
  {
   "cell_type": "code",
   "execution_count": 93,
   "metadata": {
    "collapsed": false,
    "deletable": true,
    "editable": true
   },
   "outputs": [
    {
     "name": "stdout",
     "output_type": "stream",
     "text": [
      "All files found!\n"
     ]
    }
   ],
   "source": [
    "\"\"\"\n",
    "DON'T MODIFY ANYTHING IN THIS CELL THAT IS BELOW THIS LINE\n",
    "\"\"\"\n",
    "from urllib.request import urlretrieve\n",
    "from os.path import isfile, isdir\n",
    "from tqdm import tqdm\n",
    "import problem_unittests as tests\n",
    "import tarfile\n",
    "\n",
    "cifar10_dataset_folder_path = 'cifar-10-batches-py'\n",
    "\n",
    "# Use Floyd's cifar-10 dataset if present\n",
    "floyd_cifar10_location = '/input/cifar-10/python.tar.gz'\n",
    "if isfile(floyd_cifar10_location):\n",
    "    tar_gz_path = floyd_cifar10_location\n",
    "else:\n",
    "    tar_gz_path = 'cifar-10-python.tar.gz'\n",
    "\n",
    "class DLProgress(tqdm):\n",
    "    last_block = 0\n",
    "\n",
    "    def hook(self, block_num=1, block_size=1, total_size=None):\n",
    "        self.total = total_size\n",
    "        self.update((block_num - self.last_block) * block_size)\n",
    "        self.last_block = block_num\n",
    "\n",
    "if not isfile(tar_gz_path):\n",
    "    with DLProgress(unit='B', unit_scale=True, miniters=1, desc='CIFAR-10 Dataset') as pbar:\n",
    "        urlretrieve(\n",
    "            'https://www.cs.toronto.edu/~kriz/cifar-10-python.tar.gz',\n",
    "            tar_gz_path,\n",
    "            pbar.hook)\n",
    "\n",
    "if not isdir(cifar10_dataset_folder_path):\n",
    "    with tarfile.open(tar_gz_path) as tar:\n",
    "        tar.extractall()\n",
    "        tar.close()\n",
    "\n",
    "\n",
    "tests.test_folder_path(cifar10_dataset_folder_path)"
   ]
  },
  {
   "cell_type": "markdown",
   "metadata": {
    "deletable": true,
    "editable": true
   },
   "source": [
    "## Explore the Data\n",
    "The dataset is broken into batches to prevent your machine from running out of memory.  The CIFAR-10 dataset consists of 5 batches, named `data_batch_1`, `data_batch_2`, etc.. Each batch contains the labels and images that are one of the following:\n",
    "* airplane\n",
    "* automobile\n",
    "* bird\n",
    "* cat\n",
    "* deer\n",
    "* dog\n",
    "* frog\n",
    "* horse\n",
    "* ship\n",
    "* truck\n",
    "\n",
    "Understanding a dataset is part of making predictions on the data.  Play around with the code cell below by changing the `batch_id` and `sample_id`. The `batch_id` is the id for a batch (1-5). The `sample_id` is the id for a image and label pair in the batch.\n",
    "\n",
    "Ask yourself \"What are all possible labels?\", \"What is the range of values for the image data?\", \"Are the labels in order or random?\".  Answers to questions like these will help you preprocess the data and end up with better predictions."
   ]
  },
  {
   "cell_type": "code",
   "execution_count": 95,
   "metadata": {
    "collapsed": false,
    "deletable": true,
    "editable": true
   },
   "outputs": [
    {
     "name": "stdout",
     "output_type": "stream",
     "text": [
      "\n",
      "Stats of batch 1:\n",
      "Samples: 10000\n",
      "Label Counts: {0: 1005, 1: 974, 2: 1032, 3: 1016, 4: 999, 5: 937, 6: 1030, 7: 1001, 8: 1025, 9: 981}\n",
      "First 20 Labels: [6, 9, 9, 4, 1, 1, 2, 7, 8, 3, 4, 7, 7, 2, 9, 9, 9, 3, 2, 6]\n",
      "\n",
      "Example of Image 50:\n",
      "Image - Min Value: 8 Max Value: 243\n",
      "Image - Shape: (32, 32, 3)\n",
      "Label - Label Id: 9 Name: truck\n"
     ]
    },
    {
     "data": {
      "image/png": "[encoded data removed]",
      "text/plain": [
       "<matplotlib.figure.Figure at 0x7f4ca804a6a0>"
      ]
     },
     "metadata": {
      "image/png": {
       "height": 250,
       "width": 253
      }
     },
     "output_type": "display_data"
    }
   ],
   "source": [
    "%matplotlib inline\n",
    "%config InlineBackend.figure_format = 'retina'\n",
    "\n",
    "import helper\n",
    "import numpy as np\n",
    "\n",
    "# Explore the dataset\n",
    "batch_id = 1\n",
    "sample_id = 50\n",
    "helper.display_stats(cifar10_dataset_folder_path, batch_id, sample_id)"
   ]
  },
  {
   "cell_type": "markdown",
   "metadata": {
    "deletable": true,
    "editable": true
   },
   "source": [
    "## Implement Preprocess Functions\n",
    "### Normalize\n",
    "In the cell below, implement the `normalize` function to take in image data, `x`, and return it as a normalized Numpy array. The values should be in the range of 0 to 1, inclusive.  The return object should be the same shape as `x`."
   ]
  },
  {
   "cell_type": "code",
   "execution_count": 96,
   "metadata": {
    "collapsed": false,
    "deletable": true,
    "editable": true
   },
   "outputs": [
    {
     "name": "stdout",
     "output_type": "stream",
     "text": [
      "Tests Passed\n"
     ]
    }
   ],
   "source": [
    "def normalize(x):\n",
    "    \"\"\"\n",
    "    Normalize a list of sample image data in the range of 0 to 1\n",
    "    : x: List of image data.  The image shape is (32, 32, 3)\n",
    "    : return: Numpy array of normalize data\n",
    "    \"\"\"\n",
    "    # TODO: Implement Function\n",
    "\n",
    "    return x/255.0\n",
    "\n",
    "\n",
    "\"\"\"\n",
    "DON'T MODIFY ANYTHING IN THIS CELL THAT IS BELOW THIS LINE\n",
    "\"\"\"\n",
    "tests.test_normalize(normalize)"
   ]
  },
  {
   "cell_type": "markdown",
   "metadata": {
    "deletable": true,
    "editable": true
   },
   "source": [
    "### One-hot encode\n",
    "Just like the previous code cell, you'll be implementing a function for preprocessing.  This time, you'll implement the `one_hot_encode` function. The input, `x`, are a list of labels.  Implement the function to return the list of labels as One-Hot encoded Numpy array.  The possible values for labels are 0 to 9. The one-hot encoding function should return the same encoding for each value between each call to `one_hot_encode`.  Make sure to save the map of encodings outside the function.\n",
    "\n",
    "Hint: Don't reinvent the wheel."
   ]
  },
  {
   "cell_type": "code",
   "execution_count": 97,
   "metadata": {
    "collapsed": false,
    "deletable": true,
    "editable": true
   },
   "outputs": [
    {
     "name": "stdout",
     "output_type": "stream",
     "text": [
      "Tests Passed\n"
     ]
    }
   ],
   "source": [
    "def one_hot_encode(x):\n",
    "    \"\"\"\n",
    "    One hot encode a list of sample labels. Return a one-hot encoded vector for each label.\n",
    "    : x: List of sample Labels\n",
    "    : return: Numpy array of one-hot encoded labels\n",
    "    \"\"\"\n",
    "    # TODO: Implement Function\n",
    "    l = []\n",
    "    for label in x:\n",
    "        aux = np.zeros(10)\n",
    "        aux[label] =1\n",
    "        l.append(aux)\n",
    "    l= np.array(l)\n",
    "    return l\n",
    "\n",
    "\n",
    "\"\"\"\n",
    "DON'T MODIFY ANYTHING IN THIS CELL THAT IS BELOW THIS LINE\n",
    "\"\"\"\n",
    "tests.test_one_hot_encode(one_hot_encode)"
   ]
  },
  {
   "cell_type": "markdown",
   "metadata": {
    "deletable": true,
    "editable": true
   },
   "source": [
    "### Randomize Data\n",
    "As you saw from exploring the data above, the order of the samples are randomized.  It doesn't hurt to randomize it again, but you don't need to for this dataset."
   ]
  },
  {
   "cell_type": "markdown",
   "metadata": {
    "deletable": true,
    "editable": true
   },
   "source": [
    "## Preprocess all the data and save it\n",
    "Running the code cell below will preprocess all the CIFAR-10 data and save it to file. The code below also uses 10% of the training data for validation."
   ]
  },
  {
   "cell_type": "code",
   "execution_count": 98,
   "metadata": {
    "collapsed": false,
    "deletable": true,
    "editable": true
   },
   "outputs": [],
   "source": [
    "\"\"\"\n",
    "DON'T MODIFY ANYTHING IN THIS CELL\n",
    "\"\"\"\n",
    "# Preprocess Training, Validation, and Testing Data\n",
    "helper.preprocess_and_save_data(cifar10_dataset_folder_path, normalize, one_hot_encode)"
   ]
  },
  {
   "cell_type": "markdown",
   "metadata": {
    "deletable": true,
    "editable": true
   },
   "source": [
    "# Check Point\n",
    "This is your first checkpoint.  If you ever decide to come back to this notebook or have to restart the notebook, you can start from here.  The preprocessed data has been saved to disk."
   ]
  },
  {
   "cell_type": "code",
   "execution_count": 99,
   "metadata": {
    "collapsed": false,
    "deletable": true,
    "editable": true
   },
   "outputs": [],
   "source": [
    "\"\"\"\n",
    "DON'T MODIFY ANYTHING IN THIS CELL\n",
    "\"\"\"\n",
    "import pickle\n",
    "import problem_unittests as tests\n",
    "import helper\n",
    "\n",
    "# Load the Preprocessed Validation data\n",
    "valid_features, valid_labels = pickle.load(open('preprocess_validation.p', mode='rb'))"
   ]
  },
  {
   "cell_type": "markdown",
   "metadata": {
    "deletable": true,
    "editable": true
   },
   "source": [
    "## Build the network\n",
    "For the neural network, you'll build each layer into a function.  Most of the code you've seen has been outside of functions. To test your code more thoroughly, we require that you put each layer in a function.  This allows us to give you better feedback and test for simple mistakes using our unittests before you submit your project.\n",
    "\n",
    ">**Note:** If you're finding it hard to dedicate enough time for this course each week, we've provided a small shortcut to this part of the project. In the next couple of problems, you'll have the option to use classes from the [TensorFlow Layers](https://www.tensorflow.org/api_docs/python/tf/layers) or [TensorFlow Layers (contrib)](https://www.tensorflow.org/api_guides/python/contrib.layers) packages to build each layer, except the layers you build in the \"Convolutional and Max Pooling Layer\" section.  TF Layers is similar to Keras's and TFLearn's abstraction to layers, so it's easy to pickup.\n",
    "\n",
    ">However, if you would like to get the most out of this course, try to solve all the problems _without_ using anything from the TF Layers packages. You **can** still use classes from other packages that happen to have the same name as ones you find in TF Layers! For example, instead of using the TF Layers version of the `conv2d` class, [tf.layers.conv2d](https://www.tensorflow.org/api_docs/python/tf/layers/conv2d), you would want to use the TF Neural Network version of `conv2d`, [tf.nn.conv2d](https://www.tensorflow.org/api_docs/python/tf/nn/conv2d). \n",
    "\n",
    "Let's begin!\n",
    "\n",
    "### Input\n",
    "The neural network needs to read the image data, one-hot encoded labels, and dropout keep probability. Implement the following functions\n",
    "* Implement `neural_net_image_input`\n",
    " * Return a [TF Placeholder](https://www.tensorflow.org/api_docs/python/tf/placeholder)\n",
    " * Set the shape using `image_shape` with batch size set to `None`.\n",
    " * Name the TensorFlow placeholder \"x\" using the TensorFlow `name` parameter in the [TF Placeholder](https://www.tensorflow.org/api_docs/python/tf/placeholder).\n",
    "* Implement `neural_net_label_input`\n",
    " * Return a [TF Placeholder](https://www.tensorflow.org/api_docs/python/tf/placeholder)\n",
    " * Set the shape using `n_classes` with batch size set to `None`.\n",
    " * Name the TensorFlow placeholder \"y\" using the TensorFlow `name` parameter in the [TF Placeholder](https://www.tensorflow.org/api_docs/python/tf/placeholder).\n",
    "* Implement `neural_net_keep_prob_input`\n",
    " * Return a [TF Placeholder](https://www.tensorflow.org/api_docs/python/tf/placeholder) for dropout keep probability.\n",
    " * Name the TensorFlow placeholder \"keep_prob\" using the TensorFlow `name` parameter in the [TF Placeholder](https://www.tensorflow.org/api_docs/python/tf/placeholder).\n",
    "\n",
    "These names will be used at the end of the project to load your saved model.\n",
    "\n",
    "Note: `None` for shapes in TensorFlow allow for a dynamic size."
   ]
  },
  {
   "cell_type": "code",
   "execution_count": 100,
   "metadata": {
    "collapsed": false,
    "deletable": true,
    "editable": true
   },
   "outputs": [
    {
     "name": "stdout",
     "output_type": "stream",
     "text": [
      "Image Input Tests Passed.\n",
      "Label Input Tests Passed.\n",
      "Keep Prob Tests Passed.\n"
     ]
    }
   ],
   "source": [
    "import tensorflow as tf\n",
    "\n",
    "def neural_net_image_input(image_shape):\n",
    "    \"\"\"\n",
    "    Return a Tensor for a batch of image input\n",
    "    : image_shape: Shape of the images\n",
    "    : return: Tensor for image input.\n",
    "    \"\"\"\n",
    "    # TODO: Implement Function\n",
    "    image_shape = (None,)+image_shape\n",
    "    return  tf.placeholder(tf.float32, shape=image_shape,name =\"x\")\n",
    "\n",
    "\n",
    "\n",
    "def neural_net_label_input(n_classes):\n",
    "    \"\"\"\n",
    "    Return a Tensor for a batch of label input\n",
    "    : n_classes: Number of classes\n",
    "    : return: Tensor for label input.\n",
    "    \"\"\"\n",
    "    # TODO: Implement Function\n",
    "    \n",
    "    return tf.placeholder(tf.float32, shape=(None,n_classes),name =\"y\")\n",
    "\n",
    "\n",
    "def neural_net_keep_prob_input():\n",
    "    \"\"\"\n",
    "    Return a Tensor for keep probability\n",
    "    : return: Tensor for keep probability.\n",
    "    \"\"\"\n",
    "    # TODO: Implement Function\n",
    "    return tf.placeholder(tf.float32,name =\"keep_prob\")\n",
    "\n",
    "\n",
    "\"\"\"\n",
    "DON'T MODIFY ANYTHING IN THIS CELL THAT IS BELOW THIS LINE\n",
    "\"\"\"\n",
    "tf.reset_default_graph()\n",
    "tests.test_nn_image_inputs(neural_net_image_input)\n",
    "tests.test_nn_label_inputs(neural_net_label_input)\n",
    "tests.test_nn_keep_prob_inputs(neural_net_keep_prob_input)"
   ]
  },
  {
   "cell_type": "markdown",
   "metadata": {
    "deletable": true,
    "editable": true
   },
   "source": [
    "### Convolution and Max Pooling Layer\n",
    "Convolution layers have a lot of success with images. For this code cell, you should implement the function `conv2d_maxpool` to apply convolution then max pooling:\n",
    "* Create the weight and bias using `conv_ksize`, `conv_num_outputs` and the shape of `x_tensor`.\n",
    "* Apply a convolution to `x_tensor` using weight and `conv_strides`.\n",
    " * We recommend you use same padding, but you're welcome to use any padding.\n",
    "* Add bias\n",
    "* Add a nonlinear activation to the convolution.\n",
    "* Apply Max Pooling using `pool_ksize` and `pool_strides`.\n",
    " * We recommend you use same padding, but you're welcome to use any padding.\n",
    "\n",
    "**Note:** You **can't** use [TensorFlow Layers](https://www.tensorflow.org/api_docs/python/tf/layers) or [TensorFlow Layers (contrib)](https://www.tensorflow.org/api_guides/python/contrib.layers) for **this** layer, but you can still use TensorFlow's [Neural Network](https://www.tensorflow.org/api_docs/python/tf/nn) package. You may still use the shortcut option for all the **other** layers."
   ]
  },
  {
   "cell_type": "code",
   "execution_count": 101,
   "metadata": {
    "collapsed": false,
    "deletable": true,
    "editable": true
   },
   "outputs": [
    {
     "name": "stdout",
     "output_type": "stream",
     "text": [
      "Tests Passed\n"
     ]
    }
   ],
   "source": [
    "def conv2d_maxpool(x_tensor, conv_num_outputs, conv_ksize, conv_strides, pool_ksize, pool_strides):\n",
    "    \"\"\"\n",
    "    Apply convolution then max pooling to x_tensor\n",
    "    :param x_tensor: TensorFlow Tensor\n",
    "    :param conv_num_outputs: Number of outputs for the convolutional layer\n",
    "    :param conv_ksize: kernal size 2-D Tuple for the convolutional layer\n",
    "    :param conv_strides: Stride 2-D Tuple for convolution\n",
    "    :param pool_ksize: kernal size 2-D Tuple for pool\n",
    "    :param pool_strides: Stride 2-D Tuple for pool\n",
    "    : return: A tensor that represents convolution and max pooling of x_tensor\n",
    "    \"\"\"\n",
    "    _, w, h, d = x_tensor.get_shape()\n",
    "    std =  1./(float(int(w)*int(h)) ** 0.5)\n",
    "    weight = tf.Variable(tf.truncated_normal([conv_ksize[0], conv_ksize[1],int(d), conv_num_outputs],stddev=std))\n",
    "    bias = tf.Variable(tf.zeros(conv_num_outputs))\n",
    "    \n",
    "    conv_layer = tf.nn.conv2d(x_tensor, weight, strides=[1, conv_strides[0], conv_strides[1], 1], padding='SAME')\n",
    "    conv_layer = tf.nn.bias_add(conv_layer, bias)\n",
    "    conv_layer = tf.nn.relu(conv_layer)\n",
    "    return tf.nn.max_pool(\n",
    "        conv_layer,\n",
    "        ksize=[1, pool_ksize[0], pool_ksize[1], 1],\n",
    "        strides=[1, pool_strides[0], pool_strides[1], 1],\n",
    "        padding='SAME')\n",
    "\n",
    "\n",
    "\"\"\"\n",
    "DON'T MODIFY ANYTHING IN THIS CELL THAT IS BELOW THIS LINE\n",
    "\"\"\"\n",
    "tests.test_con_pool(conv2d_maxpool)"
   ]
  },
  {
   "cell_type": "markdown",
   "metadata": {
    "deletable": true,
    "editable": true
   },
   "source": [
    "### Flatten Layer\n",
    "Implement the `flatten` function to change the dimension of `x_tensor` from a 4-D tensor to a 2-D tensor.  The output should be the shape (*Batch Size*, *Flattened Image Size*). Shortcut option: you can use classes from the [TensorFlow Layers](https://www.tensorflow.org/api_docs/python/tf/layers) or [TensorFlow Layers (contrib)](https://www.tensorflow.org/api_guides/python/contrib.layers) packages for this layer. For more of a challenge, only use other TensorFlow packages."
   ]
  },
  {
   "cell_type": "code",
   "execution_count": 102,
   "metadata": {
    "collapsed": false,
    "deletable": true,
    "editable": true
   },
   "outputs": [
    {
     "name": "stdout",
     "output_type": "stream",
     "text": [
      "Tests Passed\n"
     ]
    }
   ],
   "source": [
    "def flatten(x_tensor):\n",
    "    \"\"\"\n",
    "    Flatten x_tensor to (Batch Size, Flattened Image Size)\n",
    "    : x_tensor: A tensor of size (Batch Size, ...), where ... are the image dimensions.\n",
    "    : return: A tensor of size (Batch Size, Flattened Image Size).\n",
    "    \"\"\"\n",
    "    q= int(x_tensor.shape[1]*x_tensor.shape[2]*x_tensor.shape[3])\n",
    "    x_tensor = tf.reshape(x_tensor, [-1, q])\n",
    "    return  x_tensor\n",
    "\n",
    "\n",
    "\"\"\"\n",
    "DON'T MODIFY ANYTHING IN THIS CELL THAT IS BELOW THIS LINE\n",
    "\"\"\"\n",
    "tests.test_flatten(flatten)"
   ]
  },
  {
   "cell_type": "markdown",
   "metadata": {
    "deletable": true,
    "editable": true
   },
   "source": [
    "### Fully-Connected Layer\n",
    "Implement the `fully_conn` function to apply a fully connected layer to `x_tensor` with the shape (*Batch Size*, *num_outputs*). Shortcut option: you can use classes from the [TensorFlow Layers](https://www.tensorflow.org/api_docs/python/tf/layers) or [TensorFlow Layers (contrib)](https://www.tensorflow.org/api_guides/python/contrib.layers) packages for this layer. For more of a challenge, only use other TensorFlow packages."
   ]
  },
  {
   "cell_type": "code",
   "execution_count": 103,
   "metadata": {
    "collapsed": false,
    "deletable": true,
    "editable": true
   },
   "outputs": [
    {
     "name": "stdout",
     "output_type": "stream",
     "text": [
      "Tests Passed\n"
     ]
    }
   ],
   "source": [
    "def fully_conn(x_tensor, num_outputs):\n",
    "    \"\"\"\n",
    "    Apply a fully connected layer to x_tensor using weight and bias\n",
    "    : x_tensor: A 2-D tensor where the first dimension is batch size.\n",
    "    : num_outputs: The number of output that the new tensor should be.\n",
    "    : return: A 2-D tensor where the second dimension is num_outputs.\n",
    "    \"\"\"\n",
    "    w, h = x_tensor.get_shape()\n",
    "    std =  1./(float(int(h) ** 0.5))\n",
    "    weight = tf.Variable(tf.truncated_normal([int(h), num_outputs],stddev=std))\n",
    "    bias = tf.Variable(tf.zeros(num_outputs))\n",
    "    fc1 = tf.add(tf.matmul(x_tensor,weight), bias)\n",
    "    return fc1\n",
    "\n",
    "\n",
    "\"\"\"\n",
    "DON'T MODIFY ANYTHING IN THIS CELL THAT IS BELOW THIS LINE\n",
    "\"\"\"\n",
    "tests.test_fully_conn(fully_conn)"
   ]
  },
  {
   "cell_type": "markdown",
   "metadata": {
    "deletable": true,
    "editable": true
   },
   "source": [
    "### Output Layer\n",
    "Implement the `output` function to apply a fully connected layer to `x_tensor` with the shape (*Batch Size*, *num_outputs*). Shortcut option: you can use classes from the [TensorFlow Layers](https://www.tensorflow.org/api_docs/python/tf/layers) or [TensorFlow Layers (contrib)](https://www.tensorflow.org/api_guides/python/contrib.layers) packages for this layer. For more of a challenge, only use other TensorFlow packages.\n",
    "\n",
    "**Note:** Activation, softmax, or cross entropy should **not** be applied to this."
   ]
  },
  {
   "cell_type": "code",
   "execution_count": 104,
   "metadata": {
    "collapsed": false,
    "deletable": true,
    "editable": true
   },
   "outputs": [
    {
     "name": "stdout",
     "output_type": "stream",
     "text": [
      "Tests Passed\n"
     ]
    }
   ],
   "source": [
    "def output(x_tensor, num_outputs):\n",
    "    \"\"\"\n",
    "    Apply a output layer to x_tensor using weight and bias\n",
    "    : x_tensor: A 2-D tensor where the first dimension is batch size.\n",
    "    : num_outputs: The number of output that the new tensor should be.\n",
    "    : return: A 2-D tensor where the second dimension is num_outputs.\n",
    "    \"\"\"\n",
    "    w, h = x_tensor.get_shape()\n",
    "    std =  1./(float(int(h) ** 0.5))\n",
    "    weight = tf.Variable(tf.truncated_normal([int(h), num_outputs],stddev=std))\n",
    "    bias = tf.Variable(tf.zeros(num_outputs))\n",
    "    out = tf.add(tf.matmul(x_tensor, weight),bias)\n",
    "    return out\n",
    "\n",
    "\n",
    "\"\"\"\n",
    "DON'T MODIFY ANYTHING IN THIS CELL THAT IS BELOW THIS LINE\n",
    "\"\"\"\n",
    "tests.test_output(output)"
   ]
  },
  {
   "cell_type": "markdown",
   "metadata": {
    "deletable": true,
    "editable": true
   },
   "source": [
    "### Create Convolutional Model\n",
    "Implement the function `conv_net` to create a convolutional neural network model. The function takes in a batch of images, `x`, and outputs logits.  Use the layers you created above to create this model:\n",
    "\n",
    "* Apply 1, 2, or 3 Convolution and Max Pool layers\n",
    "* Apply a Flatten Layer\n",
    "* Apply 1, 2, or 3 Fully Connected Layers\n",
    "* Apply an Output Layer\n",
    "* Return the output\n",
    "* Apply [TensorFlow's Dropout](https://www.tensorflow.org/api_docs/python/tf/nn/dropout) to one or more layers in the model using `keep_prob`. "
   ]
  },
  {
   "cell_type": "code",
   "execution_count": 116,
   "metadata": {
    "collapsed": false,
    "deletable": true,
    "editable": true
   },
   "outputs": [
    {
     "name": "stdout",
     "output_type": "stream",
     "text": [
      "Neural Network Built!\n"
     ]
    }
   ],
   "source": [
    "def conv_net(x, keep_prob):\n",
    "    \"\"\"\n",
    "    Create a convolutional neural network model\n",
    "    : x: Placeholder tensor that holds image data.\n",
    "    : keep_prob: Placeholder tensor that hold dropout keep probability.\n",
    "    : return: Tensor that represents logits\n",
    "    \"\"\"\n",
    "    # TODO: Apply 1, 2, or 3 Convolution and Max Pool layers\n",
    "    #    Play around with different number of outputs, kernel size and stride\n",
    "    # Function Definition from Above:\n",
    "    #    conv2d_maxpool(x_tensor, conv_num_outputs, conv_ksize, conv_strides, pool_ksize, pool_strides)\n",
    "    x = conv2d_maxpool(x, 32, (5,5), (1, 1), (3, 3), (2, 2))\n",
    "    \n",
    "    x = conv2d_maxpool(x, 64, (5,5), (1, 1), (2, 2), (2, 2))\n",
    "    \n",
    "    x = conv2d_maxpool(x, 128, (5,5), (1, 1), (2, 2), (2, 2))\n",
    "    \n",
    "    # TODO: Apply a Flatten Layer\n",
    "    # Function Definition from Above:\n",
    "    #   flatten(x_tensor)\n",
    "    x = flatten(x)\n",
    "\n",
    "    # TODO: Apply 1, 2, or 3 Fully Connected Layers\n",
    "    #    Play around with different number of outputs\n",
    "    # Function Definition from Above:\n",
    "    #   fully_conn(x_tensor, num_outputs)\n",
    "    x = tf.nn.dropout(x, keep_prob)\n",
    "    x=fully_conn(x, 512)\n",
    "    x = tf.nn.dropout(x, keep_prob)\n",
    "    x=fully_conn(x, 64)\n",
    "    x = tf.nn.dropout(x, keep_prob)\n",
    "    \n",
    "    # TODO: Apply an Output Layer\n",
    "    #    Set this to the number of classes\n",
    "    # Function Definition from Above:\n",
    "    #   output(x_tensor, num_outputs)\n",
    "    \n",
    "    x=output(x, 10)\n",
    "    # TODO: return output\n",
    "    return x\n",
    "\n",
    "\n",
    "\"\"\"\n",
    "DON'T MODIFY ANYTHING IN THIS CELL THAT IS BELOW THIS LINE\n",
    "\"\"\"\n",
    "\n",
    "##############################\n",
    "## Build the Neural Network ##\n",
    "##############################\n",
    "\n",
    "# Remove previous weights, bias, inputs, etc..\n",
    "tf.reset_default_graph()\n",
    "\n",
    "# Inputs\n",
    "x = neural_net_image_input((32, 32, 3))\n",
    "y = neural_net_label_input(10)\n",
    "keep_prob = neural_net_keep_prob_input()\n",
    "\n",
    "# Model\n",
    "logits = conv_net(x, keep_prob)\n",
    "\n",
    "# Name logits Tensor, so that is can be loaded from disk after training\n",
    "logits = tf.identity(logits, name='logits')\n",
    "\n",
    "# Loss and Optimizer\n",
    "cost = tf.reduce_mean(tf.nn.softmax_cross_entropy_with_logits(logits=logits, labels=y))\n",
    "optimizer = tf.train.AdamOptimizer().minimize(cost)\n",
    "\n",
    "# Accuracy\n",
    "correct_pred = tf.equal(tf.argmax(logits, 1), tf.argmax(y, 1))\n",
    "accuracy = tf.reduce_mean(tf.cast(correct_pred, tf.float32), name='accuracy')\n",
    "\n",
    "tests.test_conv_net(conv_net)"
   ]
  },
  {
   "cell_type": "markdown",
   "metadata": {
    "deletable": true,
    "editable": true
   },
   "source": [
    "## Train the Neural Network\n",
    "### Single Optimization\n",
    "Implement the function `train_neural_network` to do a single optimization.  The optimization should use `optimizer` to optimize in `session` with a `feed_dict` of the following:\n",
    "* `x` for image input\n",
    "* `y` for labels\n",
    "* `keep_prob` for keep probability for dropout\n",
    "\n",
    "This function will be called for each batch, so `tf.global_variables_initializer()` has already been called.\n",
    "\n",
    "Note: Nothing needs to be returned. This function is only optimizing the neural network."
   ]
  },
  {
   "cell_type": "code",
   "execution_count": 117,
   "metadata": {
    "collapsed": false,
    "deletable": true,
    "editable": true
   },
   "outputs": [
    {
     "name": "stdout",
     "output_type": "stream",
     "text": [
      "Tests Passed\n"
     ]
    }
   ],
   "source": [
    "def train_neural_network(session, optimizer, keep_probability, feature_batch, label_batch):\n",
    "    \"\"\"\n",
    "    Optimize the session on a batch of images and labels\n",
    "    : session: Current TensorFlow session\n",
    "    : optimizer: TensorFlow optimizer function\n",
    "    : keep_probability: keep probability\n",
    "    : feature_batch: Batch of Numpy image data\n",
    "    : label_batch: Batch of Numpy label data\n",
    "    \"\"\"\n",
    "    session.run(optimizer, feed_dict={\n",
    "            x: feature_batch,\n",
    "            y: label_batch,\n",
    "            keep_prob: keep_probability})\n",
    "\n",
    "\n",
    "\n",
    "\"\"\"\n",
    "DON'T MODIFY ANYTHING IN THIS CELL THAT IS BELOW THIS LINE\n",
    "\"\"\"\n",
    "tests.test_train_nn(train_neural_network)"
   ]
  },
  {
   "cell_type": "markdown",
   "metadata": {
    "deletable": true,
    "editable": true
   },
   "source": [
    "### Show Stats\n",
    "Implement the function `print_stats` to print loss and validation accuracy.  Use the global variables `valid_features` and `valid_labels` to calculate validation accuracy.  Use a keep probability of `1.0` to calculate the loss and validation accuracy."
   ]
  },
  {
   "cell_type": "code",
   "execution_count": 118,
   "metadata": {
    "collapsed": false,
    "deletable": true,
    "editable": true
   },
   "outputs": [],
   "source": [
    "import sys\n",
    "def print_stats(session, feature_batch, label_batch, cost, accuracy):\n",
    "    \"\"\"\n",
    "    Print information about loss and validation accuracy\n",
    "    : session: Current TensorFlow session\n",
    "    : feature_batch: Batch of Numpy image data\n",
    "    : label_batch: Batch of Numpy label data\n",
    "    : cost: TensorFlow cost function\n",
    "    : accuracy: TensorFlow accuracy function\n",
    "    \"\"\"\n",
    "    loss = session.run(cost, feed_dict={\n",
    "                x: feature_batch,\n",
    "                y: label_batch,\n",
    "                keep_prob: 1.})\n",
    "    valid_acc = session.run(accuracy, feed_dict={\n",
    "        x: feature_batch,\n",
    "        y: label_batch,\n",
    "        keep_prob: 1.})\n",
    "\n",
    "    print('Loss: '+str(loss)+' Validation Accuracy: '+str(valid_acc))"
   ]
  },
  {
   "cell_type": "markdown",
   "metadata": {
    "deletable": true,
    "editable": true
   },
   "source": [
    "### Hyperparameters\n",
    "Tune the following parameters:\n",
    "* Set `epochs` to the number of iterations until the network stops learning or start overfitting\n",
    "* Set `batch_size` to the highest number that your machine has memory for.  Most people set them to common sizes of memory:\n",
    " * 64\n",
    " * 128\n",
    " * 256\n",
    " * ...\n",
    "* Set `keep_probability` to the probability of keeping a node using dropout"
   ]
  },
  {
   "cell_type": "code",
   "execution_count": 119,
   "metadata": {
    "collapsed": true,
    "deletable": true,
    "editable": true
   },
   "outputs": [],
   "source": [
    "# TODO: Tune Parameters\n",
    "epochs = 30\n",
    "batch_size = 1024\n",
    "keep_probability = 0.6"
   ]
  },
  {
   "cell_type": "markdown",
   "metadata": {
    "deletable": true,
    "editable": true
   },
   "source": [
    "### Train on a Single CIFAR-10 Batch\n",
    "Instead of training the neural network on all the CIFAR-10 batches of data, let's use a single batch. This should save time while you iterate on the model to get a better accuracy.  Once the final validation accuracy is 50% or greater, run the model on all the data in the next section."
   ]
  },
  {
   "cell_type": "code",
   "execution_count": 120,
   "metadata": {
    "collapsed": false,
    "deletable": true,
    "editable": true
   },
   "outputs": [
    {
     "name": "stdout",
     "output_type": "stream",
     "text": [
      "Checking the Training on a Single Batch...\n",
      "Epoch  1, CIFAR-10 Batch 1:  \n",
      "Loss: 2.16064 Validation Accuracy: 0.232673\n",
      "Epoch  2, CIFAR-10 Batch 1:  \n",
      "Loss: 2.03071 Validation Accuracy: 0.278465\n",
      "Epoch  3, CIFAR-10 Batch 1:  \n",
      "Loss: 1.93283 Validation Accuracy: 0.314356\n",
      "Epoch  4, CIFAR-10 Batch 1:  \n",
      "Loss: 1.7998 Validation Accuracy: 0.371287\n",
      "Epoch  5, CIFAR-10 Batch 1:  \n",
      "Loss: 1.71883 Validation Accuracy: 0.414604\n",
      "Epoch  6, CIFAR-10 Batch 1:  \n",
      "Loss: 1.60007 Validation Accuracy: 0.435644\n",
      "Epoch  7, CIFAR-10 Batch 1:  \n",
      "Loss: 1.5211 Validation Accuracy: 0.471535\n",
      "Epoch  8, CIFAR-10 Batch 1:  \n",
      "Loss: 1.49367 Validation Accuracy: 0.476485\n",
      "Epoch  9, CIFAR-10 Batch 1:  \n",
      "Loss: 1.4004 Validation Accuracy: 0.502475\n",
      "Epoch 10, CIFAR-10 Batch 1:  \n",
      "Loss: 1.31629 Validation Accuracy: 0.545792\n",
      "Epoch 11, CIFAR-10 Batch 1:  \n",
      "Loss: 1.27032 Validation Accuracy: 0.566832\n",
      "Epoch 12, CIFAR-10 Batch 1:  \n",
      "Loss: 1.21596 Validation Accuracy: 0.575495\n",
      "Epoch 13, CIFAR-10 Batch 1:  \n",
      "Loss: 1.14144 Validation Accuracy: 0.613861\n",
      "Epoch 14, CIFAR-10 Batch 1:  \n",
      "Loss: 1.10013 Validation Accuracy: 0.623762\n",
      "Epoch 15, CIFAR-10 Batch 1:  \n",
      "Loss: 1.04558 Validation Accuracy: 0.643564\n",
      "Epoch 16, CIFAR-10 Batch 1:  \n",
      "Loss: 1.04149 Validation Accuracy: 0.643564\n",
      "Epoch 17, CIFAR-10 Batch 1:  \n",
      "Loss: 0.995606 Validation Accuracy: 0.686881\n",
      "Epoch 18, CIFAR-10 Batch 1:  \n",
      "Loss: 0.919856 Validation Accuracy: 0.705446\n",
      "Epoch 19, CIFAR-10 Batch 1:  \n",
      "Loss: 0.918575 Validation Accuracy: 0.688119\n",
      "Epoch 20, CIFAR-10 Batch 1:  \n",
      "Loss: 0.868013 Validation Accuracy: 0.710396\n",
      "Epoch 21, CIFAR-10 Batch 1:  \n",
      "Loss: 0.789502 Validation Accuracy: 0.746287\n",
      "Epoch 22, CIFAR-10 Batch 1:  \n",
      "Loss: 0.768681 Validation Accuracy: 0.735148\n",
      "Epoch 23, CIFAR-10 Batch 1:  \n",
      "Loss: 0.734978 Validation Accuracy: 0.757426\n",
      "Epoch 24, CIFAR-10 Batch 1:  \n",
      "Loss: 0.672876 Validation Accuracy: 0.779703\n",
      "Epoch 25, CIFAR-10 Batch 1:  \n",
      "Loss: 0.648112 Validation Accuracy: 0.789604\n",
      "Epoch 26, CIFAR-10 Batch 1:  \n",
      "Loss: 0.607112 Validation Accuracy: 0.824257\n",
      "Epoch 27, CIFAR-10 Batch 1:  \n",
      "Loss: 0.559654 Validation Accuracy: 0.836634\n",
      "Epoch 28, CIFAR-10 Batch 1:  \n",
      "Loss: 0.525325 Validation Accuracy: 0.829208\n",
      "Epoch 29, CIFAR-10 Batch 1:  \n",
      "Loss: 0.488807 Validation Accuracy: 0.85396\n",
      "Epoch 30, CIFAR-10 Batch 1:  \n",
      "Loss: 0.45611 Validation Accuracy: 0.852723\n"
     ]
    }
   ],
   "source": [
    "\"\"\"\n",
    "DON'T MODIFY ANYTHING IN THIS CELL\n",
    "\"\"\"\n",
    "print('Checking the Training on a Single Batch...')\n",
    "with tf.Session() as sess:\n",
    "    # Initializing the variables\n",
    "    sess.run(tf.global_variables_initializer())\n",
    "    \n",
    "    # Training cycle\n",
    "    for epoch in range(epochs):\n",
    "        batch_i = 1\n",
    "        for batch_features, batch_labels in helper.load_preprocess_training_batch(batch_i, batch_size):\n",
    "            train_neural_network(sess, optimizer, keep_probability, batch_features, batch_labels)\n",
    "        print('Epoch {:>2}, CIFAR-10 Batch {}:  '.format(epoch + 1, batch_i))\n",
    "        print_stats(sess, batch_features, batch_labels, cost, accuracy)"
   ]
  },
  {
   "cell_type": "markdown",
   "metadata": {
    "deletable": true,
    "editable": true
   },
   "source": [
    "### Fully Train the Model\n",
    "Now that you got a good accuracy with a single CIFAR-10 batch, try it with all five batches."
   ]
  },
  {
   "cell_type": "code",
   "execution_count": 121,
   "metadata": {
    "collapsed": false,
    "deletable": true,
    "editable": true
   },
   "outputs": [
    {
     "name": "stdout",
     "output_type": "stream",
     "text": [
      "Training...\n",
      "Epoch  1, CIFAR-10 Batch 1:  Loss: 2.18855 Validation Accuracy: 0.261139\n",
      "Epoch  1, CIFAR-10 Batch 2:  Loss: 1.98927 Validation Accuracy: 0.304455\n",
      "Epoch  1, CIFAR-10 Batch 3:  Loss: 1.81459 Validation Accuracy: 0.342822\n",
      "Epoch  1, CIFAR-10 Batch 4:  Loss: 1.72242 Validation Accuracy: 0.386139\n",
      "Epoch  1, CIFAR-10 Batch 5:  Loss: 1.61454 Validation Accuracy: 0.434406\n",
      "Epoch  2, CIFAR-10 Batch 1:  Loss: 1.53152 Validation Accuracy: 0.462871\n",
      "Epoch  2, CIFAR-10 Batch 2:  Loss: 1.50785 Validation Accuracy: 0.470297\n",
      "Epoch  2, CIFAR-10 Batch 3:  Loss: 1.42022 Validation Accuracy: 0.493812\n",
      "Epoch  2, CIFAR-10 Batch 4:  Loss: 1.39641 Validation Accuracy: 0.482673\n",
      "Epoch  2, CIFAR-10 Batch 5:  Loss: 1.33766 Validation Accuracy: 0.534653\n",
      "Epoch  3, CIFAR-10 Batch 1:  Loss: 1.31361 Validation Accuracy: 0.538366\n",
      "Epoch  3, CIFAR-10 Batch 2:  Loss: 1.32289 Validation Accuracy: 0.535891\n",
      "Epoch  3, CIFAR-10 Batch 3:  Loss: 1.22718 Validation Accuracy: 0.561881\n",
      "Epoch  3, CIFAR-10 Batch 4:  Loss: 1.21689 Validation Accuracy: 0.581683\n",
      "Epoch  3, CIFAR-10 Batch 5:  Loss: 1.18072 Validation Accuracy: 0.60396\n",
      "Epoch  4, CIFAR-10 Batch 1:  Loss: 1.19566 Validation Accuracy: 0.574257\n",
      "Epoch  4, CIFAR-10 Batch 2:  Loss: 1.19897 Validation Accuracy: 0.563119\n",
      "Epoch  4, CIFAR-10 Batch 3:  Loss: 1.08994 Validation Accuracy: 0.615099\n",
      "Epoch  4, CIFAR-10 Batch 4:  Loss: 1.11347 Validation Accuracy: 0.606436\n",
      "Epoch  4, CIFAR-10 Batch 5:  Loss: 1.07884 Validation Accuracy: 0.626238\n",
      "Epoch  5, CIFAR-10 Batch 1:  Loss: 1.05023 Validation Accuracy: 0.634901\n",
      "Epoch  5, CIFAR-10 Batch 2:  Loss: 1.09217 Validation Accuracy: 0.610148\n",
      "Epoch  5, CIFAR-10 Batch 3:  Loss: 1.02505 Validation Accuracy: 0.622525\n",
      "Epoch  5, CIFAR-10 Batch 4:  Loss: 0.997445 Validation Accuracy: 0.654703\n",
      "Epoch  5, CIFAR-10 Batch 5:  Loss: 0.974852 Validation Accuracy: 0.675743\n",
      "Epoch  6, CIFAR-10 Batch 1:  Loss: 0.95508 Validation Accuracy: 0.662129\n",
      "Epoch  6, CIFAR-10 Batch 2:  Loss: 0.995403 Validation Accuracy: 0.637376\n",
      "Epoch  6, CIFAR-10 Batch 3:  Loss: 0.913489 Validation Accuracy: 0.693069\n",
      "Epoch  6, CIFAR-10 Batch 4:  Loss: 0.909415 Validation Accuracy: 0.680693\n",
      "Epoch  6, CIFAR-10 Batch 5:  Loss: 0.871002 Validation Accuracy: 0.720297\n",
      "Epoch  7, CIFAR-10 Batch 1:  Loss: 0.890624 Validation Accuracy: 0.69802\n",
      "Epoch  7, CIFAR-10 Batch 2:  Loss: 0.937338 Validation Accuracy: 0.674505\n",
      "Epoch  7, CIFAR-10 Batch 3:  Loss: 0.859476 Validation Accuracy: 0.705446\n",
      "Epoch  7, CIFAR-10 Batch 4:  Loss: 0.885505 Validation Accuracy: 0.695545\n",
      "Epoch  7, CIFAR-10 Batch 5:  Loss: 0.816046 Validation Accuracy: 0.748762\n",
      "Epoch  8, CIFAR-10 Batch 1:  Loss: 0.836529 Validation Accuracy: 0.685644\n",
      "Epoch  8, CIFAR-10 Batch 2:  Loss: 0.885566 Validation Accuracy: 0.688119\n",
      "Epoch  8, CIFAR-10 Batch 3:  Loss: 0.794996 Validation Accuracy: 0.730198\n",
      "Epoch  8, CIFAR-10 Batch 4:  Loss: 0.79386 Validation Accuracy: 0.736386\n",
      "Epoch  8, CIFAR-10 Batch 5:  Loss: 0.766914 Validation Accuracy: 0.762376\n",
      "Epoch  9, CIFAR-10 Batch 1:  Loss: 0.785022 Validation Accuracy: 0.719059\n",
      "Epoch  9, CIFAR-10 Batch 2:  Loss: 0.775474 Validation Accuracy: 0.742574\n",
      "Epoch  9, CIFAR-10 Batch 3:  Loss: 0.769558 Validation Accuracy: 0.743812\n",
      "Epoch  9, CIFAR-10 Batch 4:  Loss: 0.7585 Validation Accuracy: 0.741337\n",
      "Epoch  9, CIFAR-10 Batch 5:  Loss: 0.729189 Validation Accuracy: 0.767327\n",
      "Epoch 10, CIFAR-10 Batch 1:  Loss: 0.719761 Validation Accuracy: 0.742574\n",
      "Epoch 10, CIFAR-10 Batch 2:  Loss: 0.75619 Validation Accuracy: 0.747525\n",
      "Epoch 10, CIFAR-10 Batch 3:  Loss: 0.704581 Validation Accuracy: 0.764851\n",
      "Epoch 10, CIFAR-10 Batch 4:  Loss: 0.700294 Validation Accuracy: 0.764851\n",
      "Epoch 10, CIFAR-10 Batch 5:  Loss: 0.64988 Validation Accuracy: 0.798267\n",
      "Epoch 11, CIFAR-10 Batch 1:  Loss: 0.680135 Validation Accuracy: 0.780941\n",
      "Epoch 11, CIFAR-10 Batch 2:  Loss: 0.733565 Validation Accuracy: 0.752475\n",
      "Epoch 11, CIFAR-10 Batch 3:  Loss: 0.664436 Validation Accuracy: 0.787129\n",
      "Epoch 11, CIFAR-10 Batch 4:  Loss: 0.671398 Validation Accuracy: 0.767327\n",
      "Epoch 11, CIFAR-10 Batch 5:  Loss: 0.612631 Validation Accuracy: 0.804456\n",
      "Epoch 12, CIFAR-10 Batch 1:  Loss: 0.61894 Validation Accuracy: 0.777228\n",
      "Epoch 12, CIFAR-10 Batch 2:  Loss: 0.666175 Validation Accuracy: 0.77104\n",
      "Epoch 12, CIFAR-10 Batch 3:  Loss: 0.64138 Validation Accuracy: 0.774752\n",
      "Epoch 12, CIFAR-10 Batch 4:  Loss: 0.617953 Validation Accuracy: 0.793317\n",
      "Epoch 12, CIFAR-10 Batch 5:  Loss: 0.552107 Validation Accuracy: 0.818069\n",
      "Epoch 13, CIFAR-10 Batch 1:  Loss: 0.604753 Validation Accuracy: 0.785891\n",
      "Epoch 13, CIFAR-10 Batch 2:  Loss: 0.621623 Validation Accuracy: 0.790842\n",
      "Epoch 13, CIFAR-10 Batch 3:  Loss: 0.571183 Validation Accuracy: 0.821782\n",
      "Epoch 13, CIFAR-10 Batch 4:  Loss: 0.553595 Validation Accuracy: 0.814356\n",
      "Epoch 13, CIFAR-10 Batch 5:  Loss: 0.526732 Validation Accuracy: 0.829208\n",
      "Epoch 14, CIFAR-10 Batch 1:  Loss: 0.549746 Validation Accuracy: 0.803218\n",
      "Epoch 14, CIFAR-10 Batch 2:  Loss: 0.598445 Validation Accuracy: 0.810644\n",
      "Epoch 14, CIFAR-10 Batch 3:  Loss: 0.589407 Validation Accuracy: 0.805693\n",
      "Epoch 14, CIFAR-10 Batch 4:  Loss: 0.579284 Validation Accuracy: 0.82797\n",
      "Epoch 14, CIFAR-10 Batch 5:  Loss: 0.523765 Validation Accuracy: 0.835396\n",
      "Epoch 15, CIFAR-10 Batch 1:  Loss: 0.529193 Validation Accuracy: 0.816832\n",
      "Epoch 15, CIFAR-10 Batch 2:  Loss: 0.575944 Validation Accuracy: 0.811881\n",
      "Epoch 15, CIFAR-10 Batch 3:  Loss: 0.53563 Validation Accuracy: 0.82302\n",
      "Epoch 15, CIFAR-10 Batch 4:  Loss: 0.521252 Validation Accuracy: 0.845297\n",
      "Epoch 15, CIFAR-10 Batch 5:  Loss: 0.46888 Validation Accuracy: 0.85396\n",
      "Epoch 16, CIFAR-10 Batch 1:  Loss: 0.490495 Validation Accuracy: 0.831683\n",
      "Epoch 16, CIFAR-10 Batch 2:  Loss: 0.546943 Validation Accuracy: 0.813119\n",
      "Epoch 16, CIFAR-10 Batch 3:  Loss: 0.494378 Validation Accuracy: 0.839109\n",
      "Epoch 16, CIFAR-10 Batch 4:  Loss: 0.485 Validation Accuracy: 0.840347\n",
      "Epoch 16, CIFAR-10 Batch 5:  Loss: 0.44907 Validation Accuracy: 0.860148\n",
      "Epoch 17, CIFAR-10 Batch 1:  Loss: 0.469466 Validation Accuracy: 0.834158\n",
      "Epoch 17, CIFAR-10 Batch 2:  Loss: 0.499262 Validation Accuracy: 0.839109\n",
      "Epoch 17, CIFAR-10 Batch 3:  Loss: 0.487604 Validation Accuracy: 0.839109\n",
      "Epoch 17, CIFAR-10 Batch 4:  Loss: 0.470256 Validation Accuracy: 0.834158\n",
      "Epoch 17, CIFAR-10 Batch 5:  Loss: 0.406846 Validation Accuracy: 0.867574\n",
      "Epoch 18, CIFAR-10 Batch 1:  Loss: 0.44649 Validation Accuracy: 0.851485\n",
      "Epoch 18, CIFAR-10 Batch 2:  Loss: 0.488511 Validation Accuracy: 0.851485\n",
      "Epoch 18, CIFAR-10 Batch 3:  Loss: 0.439712 Validation Accuracy: 0.857673\n",
      "Epoch 18, CIFAR-10 Batch 4:  Loss: 0.45814 Validation Accuracy: 0.834158\n",
      "Epoch 18, CIFAR-10 Batch 5:  Loss: 0.381768 Validation Accuracy: 0.883663\n",
      "Epoch 19, CIFAR-10 Batch 1:  Loss: 0.411831 Validation Accuracy: 0.858911\n",
      "Epoch 19, CIFAR-10 Batch 2:  Loss: 0.474711 Validation Accuracy: 0.851485\n",
      "Epoch 19, CIFAR-10 Batch 3:  Loss: 0.443238 Validation Accuracy: 0.865099\n",
      "Epoch 19, CIFAR-10 Batch 4:  Loss: 0.470618 Validation Accuracy: 0.836634\n",
      "Epoch 19, CIFAR-10 Batch 5:  Loss: 0.384867 Validation Accuracy: 0.886139\n",
      "Epoch 20, CIFAR-10 Batch 1:  Loss: 0.442915 Validation Accuracy: 0.847772\n",
      "Epoch 20, CIFAR-10 Batch 2:  Loss: 0.454511 Validation Accuracy: 0.857673\n",
      "Epoch 20, CIFAR-10 Batch 3:  Loss: 0.434359 Validation Accuracy: 0.866337\n",
      "Epoch 20, CIFAR-10 Batch 4:  Loss: 0.445942 Validation Accuracy: 0.852723\n",
      "Epoch 20, CIFAR-10 Batch 5:  Loss: 0.376778 Validation Accuracy: 0.892327\n",
      "Epoch 21, CIFAR-10 Batch 1:  Loss: 0.394105 Validation Accuracy: 0.881188\n",
      "Epoch 21, CIFAR-10 Batch 2:  Loss: 0.411772 Validation Accuracy: 0.866337\n",
      "Epoch 21, CIFAR-10 Batch 3:  Loss: 0.399033 Validation Accuracy: 0.863861\n",
      "Epoch 21, CIFAR-10 Batch 4:  Loss: 0.404794 Validation Accuracy: 0.867574\n",
      "Epoch 21, CIFAR-10 Batch 5:  Loss: 0.374699 Validation Accuracy: 0.887376\n",
      "Epoch 22, CIFAR-10 Batch 1:  Loss: 0.384089 Validation Accuracy: 0.878713\n",
      "Epoch 22, CIFAR-10 Batch 2:  Loss: 0.384518 Validation Accuracy: 0.868812\n",
      "Epoch 22, CIFAR-10 Batch 3:  Loss: 0.436612 Validation Accuracy: 0.856436\n",
      "Epoch 22, CIFAR-10 Batch 4:  Loss: 0.380336 Validation Accuracy: 0.877475\n",
      "Epoch 22, CIFAR-10 Batch 5:  Loss: 0.322999 Validation Accuracy: 0.915842\n",
      "Epoch 23, CIFAR-10 Batch 1:  Loss: 0.418811 Validation Accuracy: 0.863861\n",
      "Epoch 23, CIFAR-10 Batch 2:  Loss: 0.40443 Validation Accuracy: 0.87005\n",
      "Epoch 23, CIFAR-10 Batch 3:  Loss: 0.377068 Validation Accuracy: 0.883663\n",
      "Epoch 23, CIFAR-10 Batch 4:  Loss: 0.363471 Validation Accuracy: 0.87995\n",
      "Epoch 23, CIFAR-10 Batch 5:  Loss: 0.347648 Validation Accuracy: 0.90099\n",
      "Epoch 24, CIFAR-10 Batch 1:  Loss: 0.374469 Validation Accuracy: 0.875\n",
      "Epoch 24, CIFAR-10 Batch 2:  Loss: 0.385941 Validation Accuracy: 0.860148\n",
      "Epoch 24, CIFAR-10 Batch 3:  Loss: 0.405104 Validation Accuracy: 0.866337\n",
      "Epoch 24, CIFAR-10 Batch 4:  Loss: 0.349513 Validation Accuracy: 0.882426\n",
      "Epoch 24, CIFAR-10 Batch 5:  Loss: 0.296091 Validation Accuracy: 0.913366\n",
      "Epoch 25, CIFAR-10 Batch 1:  Loss: 0.362387 Validation Accuracy: 0.886139\n",
      "Epoch 25, CIFAR-10 Batch 2:  Loss: 0.381266 Validation Accuracy: 0.873762\n",
      "Epoch 25, CIFAR-10 Batch 3:  Loss: 0.365689 Validation Accuracy: 0.886139\n",
      "Epoch 25, CIFAR-10 Batch 4:  Loss: 0.367088 Validation Accuracy: 0.882426\n",
      "Epoch 25, CIFAR-10 Batch 5:  Loss: 0.304258 Validation Accuracy: 0.904703\n",
      "Epoch 26, CIFAR-10 Batch 1:  Loss: 0.324352 Validation Accuracy: 0.89604\n",
      "Epoch 26, CIFAR-10 Batch 2:  Loss: 0.348154 Validation Accuracy: 0.893564\n",
      "Epoch 26, CIFAR-10 Batch 3:  Loss: 0.354986 Validation Accuracy: 0.878713\n",
      "Epoch 26, CIFAR-10 Batch 4:  Loss: 0.319779 Validation Accuracy: 0.902228\n",
      "Epoch 26, CIFAR-10 Batch 5:  Loss: 0.282216 Validation Accuracy: 0.925743\n",
      "Epoch 27, CIFAR-10 Batch 1:  Loss: 0.288223 Validation Accuracy: 0.909653\n",
      "Epoch 27, CIFAR-10 Batch 2:  Loss: 0.339401 Validation Accuracy: 0.904703\n",
      "Epoch 27, CIFAR-10 Batch 3:  Loss: 0.344002 Validation Accuracy: 0.878713\n",
      "Epoch 27, CIFAR-10 Batch 4:  Loss: 0.334233 Validation Accuracy: 0.887376\n",
      "Epoch 27, CIFAR-10 Batch 5:  Loss: 0.300631 Validation Accuracy: 0.913366\n",
      "Epoch 28, CIFAR-10 Batch 1:  Loss: 0.297967 Validation Accuracy: 0.898515\n",
      "Epoch 28, CIFAR-10 Batch 2:  Loss: 0.306899 Validation Accuracy: 0.923267\n",
      "Epoch 28, CIFAR-10 Batch 3:  Loss: 0.306366 Validation Accuracy: 0.89604\n",
      "Epoch 28, CIFAR-10 Batch 4:  Loss: 0.275399 Validation Accuracy: 0.912129\n",
      "Epoch 28, CIFAR-10 Batch 5:  Loss: 0.259935 Validation Accuracy: 0.919554\n",
      "Epoch 29, CIFAR-10 Batch 1:  Loss: 0.267266 Validation Accuracy: 0.912129\n",
      "Epoch 29, CIFAR-10 Batch 2:  Loss: 0.299722 Validation Accuracy: 0.908416\n",
      "Epoch 29, CIFAR-10 Batch 3:  Loss: 0.283609 Validation Accuracy: 0.913366\n",
      "Epoch 29, CIFAR-10 Batch 4:  Loss: 0.267132 Validation Accuracy: 0.920792\n",
      "Epoch 29, CIFAR-10 Batch 5:  Loss: 0.236214 Validation Accuracy: 0.940594\n",
      "Epoch 30, CIFAR-10 Batch 1:  Loss: 0.260054 Validation Accuracy: 0.92698\n",
      "Epoch 30, CIFAR-10 Batch 2:  Loss: 0.268548 Validation Accuracy: 0.920792\n",
      "Epoch 30, CIFAR-10 Batch 3:  Loss: 0.29579 Validation Accuracy: 0.905941\n",
      "Epoch 30, CIFAR-10 Batch 4:  Loss: 0.271249 Validation Accuracy: 0.924505\n",
      "Epoch 30, CIFAR-10 Batch 5:  Loss: 0.23647 Validation Accuracy: 0.934406\n"
     ]
    }
   ],
   "source": [
    "\"\"\"\n",
    "DON'T MODIFY ANYTHING IN THIS CELL\n",
    "\"\"\"\n",
    "save_model_path = './image_classification'\n",
    "\n",
    "print('Training...')\n",
    "with tf.Session() as sess:\n",
    "    # Initializing the variables\n",
    "    sess.run(tf.global_variables_initializer())\n",
    "    \n",
    "    # Training cycle\n",
    "    for epoch in range(epochs):\n",
    "        # Loop over all batches\n",
    "        n_batches = 5\n",
    "        for batch_i in range(1, n_batches + 1):\n",
    "            for batch_features, batch_labels in helper.load_preprocess_training_batch(batch_i, batch_size):\n",
    "                train_neural_network(sess, optimizer, keep_probability, batch_features, batch_labels)\n",
    "            print('Epoch {:>2}, CIFAR-10 Batch {}:  '.format(epoch + 1, batch_i), end='')\n",
    "            print_stats(sess, batch_features, batch_labels, cost, accuracy)\n",
    "            \n",
    "    # Save Model\n",
    "    saver = tf.train.Saver()\n",
    "    save_path = saver.save(sess, save_model_path)"
   ]
  },
  {
   "cell_type": "markdown",
   "metadata": {
    "deletable": true,
    "editable": true
   },
   "source": [
    "# Checkpoint\n",
    "The model has been saved to disk.\n",
    "## Test Model\n",
    "Test your model against the test dataset.  This will be your final accuracy. You should have an accuracy greater than 50%. If you don't, keep tweaking the model architecture and parameters."
   ]
  },
  {
   "cell_type": "code",
   "execution_count": 123,
   "metadata": {
    "collapsed": false,
    "deletable": true,
    "editable": true
   },
   "outputs": [
    {
     "name": "stdout",
     "output_type": "stream",
     "text": [
      "Testing Accuracy: 0.7260044574737549\n",
      "\n"
     ]
    },
    {
     "data": {
      "image/png": "[encoded data removed]",
      "text/plain": [
       "<matplotlib.figure.Figure at 0x7f4cbaeb9080>"
      ]
     },
     "metadata": {
      "image/png": {
       "height": 319,
       "width": 355
      }
     },
     "output_type": "display_data"
    }
   ],
   "source": [
    "\"\"\"\n",
    "DON'T MODIFY ANYTHING IN THIS CELL\n",
    "\"\"\"\n",
    "%matplotlib inline\n",
    "%config InlineBackend.figure_format = 'retina'\n",
    "\n",
    "import tensorflow as tf\n",
    "import pickle\n",
    "import helper\n",
    "import random\n",
    "\n",
    "# Set batch size if not already set\n",
    "try:\n",
    "    if batch_size:\n",
    "        pass\n",
    "except NameError:\n",
    "    batch_size = 64\n",
    "\n",
    "save_model_path = './image_classification'\n",
    "n_samples = 4\n",
    "top_n_predictions = 3\n",
    "\n",
    "def test_model():\n",
    "    \"\"\"\n",
    "    Test the saved model against the test dataset\n",
    "    \"\"\"\n",
    "\n",
    "    test_features, test_labels = pickle.load(open('preprocess_training.p', mode='rb'))\n",
    "    loaded_graph = tf.Graph()\n",
    "\n",
    "    with tf.Session(graph=loaded_graph) as sess:\n",
    "        # Load model\n",
    "        loader = tf.train.import_meta_graph(save_model_path + '.meta')\n",
    "        loader.restore(sess, save_model_path)\n",
    "\n",
    "        # Get Tensors from loaded model\n",
    "        loaded_x = loaded_graph.get_tensor_by_name('x:0')\n",
    "        loaded_y = loaded_graph.get_tensor_by_name('y:0')\n",
    "        loaded_keep_prob = loaded_graph.get_tensor_by_name('keep_prob:0')\n",
    "        loaded_logits = loaded_graph.get_tensor_by_name('logits:0')\n",
    "        loaded_acc = loaded_graph.get_tensor_by_name('accuracy:0')\n",
    "        \n",
    "        # Get accuracy in batches for memory limitations\n",
    "        test_batch_acc_total = 0\n",
    "        test_batch_count = 0\n",
    "        \n",
    "        for train_feature_batch, train_label_batch in helper.batch_features_labels(test_features, test_labels, batch_size):\n",
    "            test_batch_acc_total += sess.run(\n",
    "                loaded_acc,\n",
    "                feed_dict={loaded_x: train_feature_batch, loaded_y: train_label_batch, loaded_keep_prob: 1.0})\n",
    "            test_batch_count += 1\n",
    "\n",
    "        print('Testing Accuracy: {}\\n'.format(test_batch_acc_total/test_batch_count))\n",
    "\n",
    "        # Print Random Samples\n",
    "        random_test_features, random_test_labels = tuple(zip(*random.sample(list(zip(test_features, test_labels)), n_samples)))\n",
    "        random_test_predictions = sess.run(\n",
    "            tf.nn.top_k(tf.nn.softmax(loaded_logits), top_n_predictions),\n",
    "            feed_dict={loaded_x: random_test_features, loaded_y: random_test_labels, loaded_keep_prob: 1.0})\n",
    "        helper.display_image_predictions(random_test_features, random_test_labels, random_test_predictions)\n",
    "\n",
    "\n",
    "test_model()"
   ]
  },
  {
   "cell_type": "markdown",
   "metadata": {
    "deletable": true,
    "editable": true
   },
   "source": [
    "## Why 50-80% Accuracy?\n",
    "You might be wondering why you can't get an accuracy any higher. First things first, 50% isn't bad for a simple CNN.  Pure guessing would get you 10% accuracy. However, you might notice people are getting scores [well above 80%](http://rodrigob.github.io/are_we_there_yet/build/classification_datasets_results.html#43494641522d3130).  That's because we haven't taught you all there is to know about neural networks. We still need to cover a few more techniques.\n",
    "## Submitting This Project\n",
    "When submitting this project, make sure to run all the cells before saving the notebook.  Save the notebook file as \"dlnd_image_classification.ipynb\" and save it as a HTML file under \"File\" -> \"Download as\".  Include the \"helper.py\" and \"problem_unittests.py\" files in your submission."
   ]
  },
  {
   "cell_type": "code",
   "execution_count": null,
   "metadata": {
    "collapsed": true
   },
   "outputs": [],
   "source": []
  }
 ],
 "metadata": {
  "kernelspec": {
   "display_name": "Python 3",
   "language": "python",
   "name": "python3"
  },
  "language_info": {
   "codemirror_mode": {
    "name": "ipython",
    "version": 3
   },
   "file_extension": ".py",
   "mimetype": "text/x-python",
   "name": "python",
   "nbconvert_exporter": "python",
   "pygments_lexer": "ipython3",
   "version": "3.5.3"
  }
 },
 "nbformat": 4,
 "nbformat_minor": 0
}
